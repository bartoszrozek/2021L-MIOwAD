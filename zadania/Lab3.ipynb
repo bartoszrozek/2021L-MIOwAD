{
 "cells": [
  {
   "cell_type": "markdown",
   "metadata": {},
   "source": [
    "Bartosz Rożek 298839"
   ]
  },
  {
   "cell_type": "markdown",
   "metadata": {},
   "source": [
    "# Laboratorium 3"
   ]
  },
  {
   "cell_type": "markdown",
   "metadata": {},
   "source": [
    " Zaimplementować dwa usprawnienia uczenia gradientowego sieci neuronowej:\n",
    "\n",
    "    moment,\n",
    "    normalizację gradientu RMSProp.\n",
    "\n",
    "Porównać szybkość zbieżności procesu uczenia dla obu wariantów.\n",
    "\n",
    "Przeprowadzić eksperymenty na zbiorach:\n",
    "\n",
    "    square-large,\n",
    "    steps-large,\n",
    "    multimodal-large.\n"
   ]
  },
  {
   "cell_type": "code",
   "execution_count": 2,
   "metadata": {
    "ExecuteTime": {
     "end_time": "2021-03-15T18:08:45.329833Z",
     "start_time": "2021-03-15T18:08:34.441018Z"
    }
   },
   "outputs": [
    {
     "name": "stderr",
     "output_type": "stream",
     "text": [
      "Matplotlib is building the font cache; this may take a moment.\n"
     ]
    }
   ],
   "source": [
    "import numpy as np\n",
    "import pandas as pd\n",
    "import seaborn as sns\n",
    "from matplotlib import pyplot as plt\n",
    "from sklearn import metrics\n",
    "from sklearn.metrics import mean_absolute_error"
   ]
  },
  {
   "cell_type": "code",
   "execution_count": 3,
   "metadata": {
    "ExecuteTime": {
     "end_time": "2021-03-15T18:08:47.067195Z",
     "start_time": "2021-03-15T18:08:46.991699Z"
    }
   },
   "outputs": [],
   "source": [
    "np.random.seed(420)"
   ]
  },
  {
   "cell_type": "code",
   "execution_count": 4,
   "metadata": {
    "ExecuteTime": {
     "end_time": "2021-03-15T18:08:47.823615Z",
     "start_time": "2021-03-15T18:08:47.818873Z"
    }
   },
   "outputs": [],
   "source": [
    "def sigmoid(x):\n",
    "        return 1 / (1 + np.exp(-x))"
   ]
  },
  {
   "cell_type": "code",
   "execution_count": 5,
   "metadata": {
    "ExecuteTime": {
     "end_time": "2021-03-15T18:08:48.491813Z",
     "start_time": "2021-03-15T18:08:48.480965Z"
    }
   },
   "outputs": [],
   "source": [
    "def sigmoid_der(x):\n",
    "    return sigmoid(x) * (1 - sigmoid(x))"
   ]
  },
  {
   "cell_type": "markdown",
   "metadata": {},
   "source": [
    "## Klasa mlp"
   ]
  },
  {
   "cell_type": "code",
   "execution_count": 91,
   "metadata": {
    "ExecuteTime": {
     "end_time": "2021-03-15T19:29:21.638663Z",
     "start_time": "2021-03-15T19:29:21.598527Z"
    },
    "code_folding": []
   },
   "outputs": [],
   "source": [
    "class MLP:\n",
    "    \"\"\"\n",
    "    layers - wektor zawierający liczbę kolejnych neuronów warstwach, w tym wejscie i wyjscie\n",
    "    weights_biases - wybor metody losowania wag\n",
    "    activation_function - funkcja aktywacji\n",
    "    activation_function_dev - pochodna funkcja aktywacji\n",
    "    delta_w, delta_b - zmiana biasu i wag w propagacji wstecznej \n",
    "    \"\"\"\n",
    "    \n",
    "    \n",
    "    def __init__(self, layers, weights_biases, activation_function, activation_function_der):\n",
    "        self.layers = layers\n",
    "        self.activation_function = activation_function\n",
    "        self.activation_function_der = activation_function_der\n",
    "        self.weights = []\n",
    "        self.biases = []\n",
    "        self.delta_w = []\n",
    "        self.delta_b = []\n",
    "\n",
    "        if weights_biases == \"Random\":\n",
    "            self.weights_random()\n",
    "        elif weights_biases == \"Xavier\": \n",
    "            self.weights_xavier()\n",
    "        \n",
    "    def weights_random(self):\n",
    "        \"\"\"\n",
    "        losowanie wag z rozkladu jednostajnego z przedzialu [-1,1] \n",
    "        \"\"\"\n",
    "        for i in range(len(self.layers) - 1):\n",
    "            self.weights.append(np.random.uniform(\n",
    "                -1, 1, self.layers[i] * self.layers[i + 1]).reshape(layers[i], self.layers[i + 1]))\n",
    "            self.biases.append(np.random.uniform(-1, 1, self.layers[i + 1]).reshape(1, self.layers[i+1]))\n",
    "            \n",
    "    def weights_xavier(self):\n",
    "        \"\"\"\n",
    "        losowanie wag metodą Xaviera\n",
    "        \"\"\"\n",
    "        xavier = np.sqrt(6)/np.sqrt(self.layers[1]+self.layers[-1])\n",
    "        for i in range(len(self.layers) - 1):\n",
    "            self.weights.append(xavier * np.random.uniform(\n",
    "                -1, 1, self.layers[i] * self.layers[i + 1]).reshape(layers[i], self.layers[i + 1]))\n",
    "            self.biases.append(xavier * np.random.uniform(-1, 1, self.layers[i + 1]).reshape(1, self.layers[i+1]))\n",
    "\n",
    "    \n",
    "    def forward(self, inputs):\n",
    "        \"\"\"\n",
    "        przejscie do przodu po sieci neuronowych\n",
    "        \"\"\"\n",
    "        self.A = []\n",
    "        self.z = []\n",
    "\n",
    "        a = inputs\n",
    "        self.A.append(a)\n",
    "        for i in range(len(self.layers)-2):\n",
    "\n",
    "            outputs = a @ self.weights[i] + self.biases[i]\n",
    "            self.z.append(outputs)\n",
    "            a = self.activation_function(outputs)\n",
    "            self.A.append(a)\n",
    "        a.shape\n",
    "        self.weights[-1].shape\n",
    "        results = a @ self.weights[-1] + self.biases[-1]\n",
    "        self.z.append(results)\n",
    "        self.A.append(results)\n",
    "        return results\n",
    "\n",
    "    def backward(self, y):\n",
    "        \"\"\"\n",
    "        propagacja wsteczna\n",
    "        \"\"\"\n",
    "        m = y.shape[0]\n",
    "        D = [None] * len(self.weights)\n",
    "        D[-1] = y - self.A[-1]\n",
    "\n",
    "        for i in reversed(range(len(D) - 1)):\n",
    "            D[i] = ((self.weights[i + 1] @ D[i + 1].T ) * self.activation_function_der(self.z[i]).T).T\n",
    "\n",
    "\n",
    "        delta_b = [None] * len(D)\n",
    "        delta_w = [None] * len(D)\n",
    "\n",
    "        for i, d in enumerate(D):\n",
    "            delta_w[i] = (d.T @ self.A[i]).T / m\n",
    "            delta_b[i] = (d.T @ np.ones((m, 1))).T / m\n",
    "\n",
    "        return delta_w, delta_b\n",
    "\n",
    "    def learn(self, x, y, batch_size=20, iterations=500, alpha=0.01, method = \"Classic\", var=0.4):\n",
    "        \"\"\"\n",
    "        batchowe uczenie modelu, dla batch_size=1 mamy cały zbiór\n",
    "        alpha - learning rate\n",
    "        method - wybór metody uczenia Classic(default)/Momentum/RMSProp\n",
    "        var - współczynnik wygaszania\n",
    "        \"\"\"\n",
    "        \n",
    "        p = np.random.permutation(len(x))\n",
    "        x = x[p]\n",
    "        y = y[p]\n",
    "        \n",
    "        method_w = [np.zeros(w.shape) for w in self.weights]\n",
    "        method_b = [np.zeros(b.shape) for b in self.biases]\n",
    "\n",
    "        for iteration in range(iterations):\n",
    "            i = 0\n",
    "            \n",
    "            while i < len(y):\n",
    "                x_batch = x[i:i + batch_size]\n",
    "                y_batch = y[i:i + batch_size]\n",
    "                i = i + batch_size\n",
    "                self.forward(x_batch)\n",
    "                delta_w, delta_b = self.backward(y_batch)\n",
    "                \n",
    "                if method == \"Classic\":\n",
    "                    for j, weight in enumerate(self.weights):    \n",
    "                        self.weights[j] = weight + alpha * delta_w[j]\n",
    "                    \n",
    "                    for j, bias in enumerate(self.biases):\n",
    "                        self.biases[j] = bias + alpha * delta_b[j]   \n",
    "                \n",
    "                elif method == \"Momentum\":\n",
    "                    for j, weight in enumerate(self.weights):    \n",
    "                        method_w[j] = method_w[j] * var + delta_w[j]\n",
    "                        self.weights[j] = weight + alpha * method_w[j]\n",
    "                    \n",
    "                    for j, bias in enumerate(self.biases):\n",
    "                        method_b[j] = method_b[j] * var + delta_b[j]\n",
    "                        self.biases[j] = bias + alpha * method_b[j]\n",
    "                        \n",
    "                elif method == \"RMSProp\":\n",
    "                    for j, weight in enumerate(self.weights):    \n",
    "                        method_w[j] = var * method_w[j] + (1-var) * delta_w[j] ** 2\n",
    "                        self.weights[j] = weight + alpha * (delta_w[j]/np.sqrt(method_w[j]) + 10**-8)\n",
    "                    \n",
    "                    for j, bias in enumerate(self.biases):\n",
    "                        method_b[j] = var * method_b[j] + (1-var) * delta_b[j] ** 2\n",
    "                        self.biases[j] = bias + alpha * (delta_b[j]/np.sqrt(method_b[j]) + 10**-8)\n"
   ]
  },
  {
   "cell_type": "code",
   "execution_count": 88,
   "metadata": {
    "ExecuteTime": {
     "end_time": "2021-03-15T19:18:12.461801Z",
     "start_time": "2021-03-15T19:18:12.452993Z"
    }
   },
   "outputs": [],
   "source": [
    "iterations_set = [5, 10, 20, 75, 100, 150, 200,500]\n",
    "layers=[1, 10, 1]"
   ]
  },
  {
   "cell_type": "markdown",
   "metadata": {},
   "source": [
    "## Zbiór Steps Large"
   ]
  },
  {
   "cell_type": "code",
   "execution_count": 94,
   "metadata": {
    "ExecuteTime": {
     "end_time": "2021-03-15T19:34:55.765369Z",
     "start_time": "2021-03-15T19:30:33.869772Z"
    },
    "scrolled": true
   },
   "outputs": [],
   "source": [
    "train_df = pd.read_csv('mio_data/regression/steps-large-training.csv', index_col=0)\n",
    "test_df = pd.read_csv('mio_data/regression/steps-large-test.csv', index_col=0)\n",
    "\n",
    "x = np.asarray(train_df['x']).reshape(-1, 1)\n",
    "y = np.asarray(train_df['y']).reshape(-1, 1)\n",
    "x_test = np.asarray(test_df['x']).reshape(-1,1)\n",
    "y_test = np.asarray(test_df['y']).reshape(-1, 1)\n",
    "\n",
    "results_classic = []\n",
    "results_momentum = []\n",
    "results_rmsprop = []\n",
    "\n",
    "for iterations in iterations_set:\n",
    "    for _ in range (2):\n",
    "        results_classic_temp = []\n",
    "        results_momentum_temp = []\n",
    "        results_rmsprop_temp = []\n",
    "\n",
    "        mlp_classic = MLP(\n",
    "        layers = layers, \n",
    "        weights_biases = \"Random\",\n",
    "        activation_function = sigmoid,\n",
    "        activation_function_der = sigmoid_der)\n",
    "\n",
    "        mlp_classic.learn(x, y, iterations=iterations, batch_size = 20, alpha=0.01, method = \"Classic\")\n",
    "        results_classic_temp.append(mean_absolute_error(y_test, mlp_classic.forward(x_test)))\n",
    "\n",
    "        mlp_momentum = MLP(\n",
    "        layers = layers, \n",
    "        weights_biases = \"Random\",\n",
    "        activation_function = sigmoid,\n",
    "        activation_function_der = sigmoid_der)\n",
    "\n",
    "        mlp_momentum.learn(x, y, iterations=iterations, batch_size = 20, alpha=0.05, var=0.5, method = \"Momentum\")\n",
    "        results_momentum_temp.append(mean_absolute_error(y_test, mlp_momentum.forward(x_test)))\n",
    "\n",
    "        mlp_rmsprop = MLP(\n",
    "        layers = layers, \n",
    "        weights_biases = \"Random\",\n",
    "        activation_function = sigmoid,\n",
    "        activation_function_der = sigmoid_der)\n",
    "\n",
    "        mlp_rmsprop.learn(x, y, iterations=iterations, batch_size = 20, alpha=0.05, var=0.9, method = \"RMSProp\")\n",
    "        results_rmsprop_temp.append(mean_absolute_error(y_test, mlp_rmsprop.forward(x_test)))\n",
    "    \n",
    "    results_classic.append(np.mean(results_classic_temp))\n",
    "    results_momentum.append(np.mean(results_momentum_temp))\n",
    "    results_rmsprop.append(np.mean(results_rmsprop_temp))"
   ]
  },
  {
   "cell_type": "code",
   "execution_count": 95,
   "metadata": {
    "ExecuteTime": {
     "end_time": "2021-03-15T19:38:06.094348Z",
     "start_time": "2021-03-15T19:38:05.942376Z"
    },
    "scrolled": false
   },
   "outputs": [
    {
     "data": {
      "text/plain": [
       "<matplotlib.legend.Legend at 0x7ff825eefd60>"
      ]
     },
     "execution_count": 95,
     "metadata": {},
     "output_type": "execute_result"
    },
    {
     "data": {
      "image/png": "[encoded data removed]",
      "text/plain": [
       "<Figure size 432x288 with 1 Axes>"
      ]
     },
     "metadata": {
      "needs_background": "light"
     },
     "output_type": "display_data"
    }
   ],
   "source": [
    "df=pd.DataFrame({'x_values': iterations_set, 'Classic': results_classic, 'Momentum': results_momentum, 'RMSProp': results_rmsprop })\n",
    "plt.plot( 'x_values', 'Classic', data=df, marker='o', markerfacecolor='skyblue', markersize=8, color='skyblue', linewidth=4, linestyle='dotted')\n",
    "plt.plot( 'x_values', 'Momentum', data=df, marker='o', markerfacecolor='pink', markersize=8, color='pink', linewidth=4, linestyle='dotted')\n",
    "plt.plot( 'x_values', 'RMSProp', data=df, marker='o', markerfacecolor='grey', markersize=8, color='grey', linewidth=4, linestyle='dotted')\n",
    "plt.legend()"
   ]
  },
  {
   "cell_type": "markdown",
   "metadata": {},
   "source": [
    "Widzimy, że najszybciej zbiega Momentum, a RMSProp i klasyczna propagacja wsteczna radzą sobie podobnie"
   ]
  },
  {
   "cell_type": "markdown",
   "metadata": {},
   "source": [
    "## Zbiór Square Large"
   ]
  },
  {
   "cell_type": "code",
   "execution_count": 110,
   "metadata": {
    "ExecuteTime": {
     "end_time": "2021-03-15T19:53:40.035010Z",
     "start_time": "2021-03-15T19:53:15.460572Z"
    }
   },
   "outputs": [],
   "source": [
    "train_df = pd.read_csv('mio_data/regression/square-large-training.csv', index_col=0)\n",
    "test_df = pd.read_csv('mio_data/regression/square-large-test.csv', index_col=0)\n",
    "\n",
    "x = np.asarray(train_df['x']).reshape(-1, 1)\n",
    "y = np.asarray(train_df['y']).reshape(-1, 1)\n",
    "x_test = np.asarray(test_df['x']).reshape(-1,1)\n",
    "y_test = np.asarray(test_df['y']).reshape(-1, 1)\n",
    "\n",
    "results_classic = []\n",
    "results_momentum = []\n",
    "results_rmsprop = []\n",
    "\n",
    "for iterations in iterations_set:\n",
    "    for _ in range (2):\n",
    "        results_classic_temp = []\n",
    "        results_momentum_temp = []\n",
    "        results_rmsprop_temp = []\n",
    "\n",
    "        mlp_classic = MLP(\n",
    "        layers = layers, \n",
    "        weights_biases = \"Random\",\n",
    "        activation_function = sigmoid,\n",
    "        activation_function_der = sigmoid_der)\n",
    "\n",
    "        mlp_classic.learn(x, y, iterations=iterations, batch_size = 20, alpha=0.001, method = \"Classic\")\n",
    "        results_classic_temp.append(mean_absolute_error(y_test, mlp_classic.forward(x_test)))\n",
    "\n",
    "        mlp_momentum = MLP(\n",
    "        layers = layers, \n",
    "        weights_biases = \"Random\",\n",
    "        activation_function = sigmoid,\n",
    "        activation_function_der = sigmoid_der)\n",
    "\n",
    "        mlp_momentum.learn(x, y, iterations=iterations, batch_size = 20, alpha=0.01, var=0.2, method = \"Momentum\")\n",
    "        results_momentum_temp.append(mean_absolute_error(y_test, mlp_momentum.forward(x_test)))\n",
    "\n",
    "        mlp_rmsprop = MLP(\n",
    "        layers = layers, \n",
    "        weights_biases = \"Random\",\n",
    "        activation_function = sigmoid,\n",
    "        activation_function_der = sigmoid_der)\n",
    "\n",
    "        mlp_rmsprop.learn(x, y, iterations=iterations, batch_size = 20, alpha=0.01, var=0.75, method = \"RMSProp\")\n",
    "        results_rmsprop_temp.append(mean_absolute_error(y_test, mlp_rmsprop.forward(x_test)))\n",
    "    \n",
    "    results_classic.append(np.mean(results_classic_temp))\n",
    "    results_momentum.append(np.mean(results_momentum_temp))\n",
    "    results_rmsprop.append(np.mean(results_rmsprop_temp))"
   ]
  },
  {
   "cell_type": "code",
   "execution_count": 112,
   "metadata": {
    "ExecuteTime": {
     "end_time": "2021-03-15T19:55:31.338885Z",
     "start_time": "2021-03-15T19:55:31.171159Z"
    }
   },
   "outputs": [
    {
     "data": {
      "text/plain": [
       "<matplotlib.legend.Legend at 0x7ff825eb5a30>"
      ]
     },
     "execution_count": 112,
     "metadata": {},
     "output_type": "execute_result"
    },
    {
     "data": {
      "image/png": "[encoded data removed]",
      "text/plain": [
       "<Figure size 432x288 with 1 Axes>"
      ]
     },
     "metadata": {
      "needs_background": "light"
     },
     "output_type": "display_data"
    }
   ],
   "source": [
    "df=pd.DataFrame({'x_values': iterations_set, 'Classic': results_classic, 'Momentum': results_momentum, 'RMSProp': results_rmsprop })\n",
    "plt.plot( 'x_values', 'Classic', data=df, marker='o', markerfacecolor='skyblue', markersize=8, color='skyblue', linewidth=4, linestyle='dotted')\n",
    "plt.plot( 'x_values', 'Momentum', data=df, marker='o', markerfacecolor='pink', markersize=8, color='pink', linewidth=4, linestyle='dotted')\n",
    "plt.plot( 'x_values', 'RMSProp', data=df, marker='o', markerfacecolor='grey', markersize=8, color='grey', linewidth=4, linestyle='dotted')\n",
    "plt.legend()"
   ]
  },
  {
   "cell_type": "markdown",
   "metadata": {},
   "source": [
    "Wnioski jak w zbiorze pierwszym, możemy zobaczyć, że Momentum poradziło sobie najlepiej, mimo że około 100 iteracji trochę \"zbłądziło\"."
   ]
  },
  {
   "cell_type": "markdown",
   "metadata": {},
   "source": [
    "## Zbiór Multimodal Large"
   ]
  },
  {
   "cell_type": "code",
   "execution_count": 114,
   "metadata": {
    "ExecuteTime": {
     "end_time": "2021-03-15T20:03:22.260252Z",
     "start_time": "2021-03-15T19:59:01.712292Z"
    }
   },
   "outputs": [],
   "source": [
    "train_df = pd.read_csv('mio_data/regression/multimodal-large-training.csv', index_col=0)\n",
    "test_df = pd.read_csv('mio_data/regression/multimodal-large-test.csv', index_col=0)\n",
    "\n",
    "x = np.asarray(train_df['x']).reshape(-1, 1)\n",
    "y = np.asarray(train_df['y']).reshape(-1, 1)\n",
    "x_test = np.asarray(test_df['x']).reshape(-1,1)\n",
    "y_test = np.asarray(test_df['y']).reshape(-1, 1)\n",
    "\n",
    "results_classic = []\n",
    "results_momentum = []\n",
    "results_rmsprop = []\n",
    "\n",
    "for iterations in iterations_set:\n",
    "    for _ in range (2):\n",
    "        results_classic_temp = []\n",
    "        results_momentum_temp = []\n",
    "        results_rmsprop_temp = []\n",
    "\n",
    "        mlp_classic = MLP(\n",
    "        layers = layers, \n",
    "        weights_biases = \"Random\",\n",
    "        activation_function = sigmoid,\n",
    "        activation_function_der = sigmoid_der)\n",
    "\n",
    "        mlp_classic.learn(x, y, iterations=iterations, batch_size = 20, alpha=0.001, method = \"Classic\")\n",
    "        results_classic_temp.append(mean_absolute_error(y_test, mlp_classic.forward(x_test)))\n",
    "\n",
    "        mlp_momentum = MLP(\n",
    "        layers = layers, \n",
    "        weights_biases = \"Random\",\n",
    "        activation_function = sigmoid,\n",
    "        activation_function_der = sigmoid_der)\n",
    "\n",
    "        mlp_momentum.learn(x, y, iterations=iterations, batch_size = 20, alpha=0.01, var=0.8, method = \"Momentum\")\n",
    "        results_momentum_temp.append(mean_absolute_error(y_test, mlp_momentum.forward(x_test)))\n",
    "\n",
    "        mlp_rmsprop = MLP(\n",
    "        layers = layers, \n",
    "        weights_biases = \"Random\",\n",
    "        activation_function = sigmoid,\n",
    "        activation_function_der = sigmoid_der)\n",
    "\n",
    "        mlp_rmsprop.learn(x, y, iterations=iterations, batch_size = 20, alpha=0.01, var=0.7, method = \"RMSProp\")\n",
    "        results_rmsprop_temp.append(mean_absolute_error(y_test, mlp_rmsprop.forward(x_test)))\n",
    "    \n",
    "    results_classic.append(np.mean(results_classic_temp))\n",
    "    results_momentum.append(np.mean(results_momentum_temp))\n",
    "    results_rmsprop.append(np.mean(results_rmsprop_temp))"
   ]
  },
  {
   "cell_type": "code",
   "execution_count": 115,
   "metadata": {
    "ExecuteTime": {
     "end_time": "2021-03-15T20:05:26.190692Z",
     "start_time": "2021-03-15T20:05:26.025924Z"
    }
   },
   "outputs": [
    {
     "data": {
      "text/plain": [
       "<matplotlib.legend.Legend at 0x7ff82c168340>"
      ]
     },
     "execution_count": 115,
     "metadata": {},
     "output_type": "execute_result"
    },
    {
     "data": {
      "image/png": "[encoded data removed]",
      "text/plain": [
       "<Figure size 432x288 with 1 Axes>"
      ]
     },
     "metadata": {
      "needs_background": "light"
     },
     "output_type": "display_data"
    }
   ],
   "source": [
    "df=pd.DataFrame({'x_values': iterations_set, 'Classic': results_classic, 'Momentum': results_momentum, 'RMSProp': results_rmsprop })\n",
    "plt.plot( 'x_values', 'Classic', data=df, marker='o', markerfacecolor='skyblue', markersize=8, color='skyblue', linewidth=4, linestyle='dotted')\n",
    "plt.plot( 'x_values', 'Momentum', data=df, marker='o', markerfacecolor='pink', markersize=8, color='pink', linewidth=4, linestyle='dotted')\n",
    "plt.plot( 'x_values', 'RMSProp', data=df, marker='o', markerfacecolor='grey', markersize=8, color='grey', linewidth=4, linestyle='dotted')\n",
    "plt.legend()"
   ]
  },
  {
   "cell_type": "markdown",
   "metadata": {},
   "source": [
    "Wnioski jak w pierwszym zbiorze (są niemal identyczne)"
   ]
  }
 ],
 "metadata": {
  "kernelspec": {
   "display_name": "Python 3",
   "language": "python",
   "name": "python3"
  },
  "language_info": {
   "codemirror_mode": {
    "name": "ipython",
    "version": 3
   },
   "file_extension": ".py",
   "mimetype": "text/x-python",
   "name": "python",
   "nbconvert_exporter": "python",
   "pygments_lexer": "ipython3",
   "version": "3.8.5"
  },
  "toc": {
   "base_numbering": 1,
   "nav_menu": {},
   "number_sections": true,
   "sideBar": true,
   "skip_h1_title": false,
   "title_cell": "Table of Contents",
   "title_sidebar": "Contents",
   "toc_cell": false,
   "toc_position": {},
   "toc_section_display": true,
   "toc_window_display": false
  }
 },
 "nbformat": 4,
 "nbformat_minor": 4
}
