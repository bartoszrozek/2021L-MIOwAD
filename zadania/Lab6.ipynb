{
 "cells": [
  {
   "cell_type": "markdown",
   "metadata": {},
   "source": [
    "# Laboratorium 6"
   ]
  },
  {
   "cell_type": "markdown",
   "metadata": {},
   "source": [
    "1.2.6 Zjawisko przeuczenia + regularyzacja\n",
    "\n",
    "Zaimplementować mechanizm regularyzacji wag w sieci oraz mechanizm zatrzymywania uczenia przy wzroście błędu na zbiorze walidacyjnym.\n",
    "\n",
    "Przeprowadzić eksperymenty na zbiorach i porównać skuteczność na zbiorze testowym dla różnych wariantów przeciwdziałania przeuczeniu sieci:\n",
    "\n",
    "    multimodal-sparse,\n",
    "    rings5-sparse,\n",
    "    rings3-balance,\n",
    "    xor3-balance.\n",
    "\n"
   ]
  },
  {
   "cell_type": "code",
   "execution_count": 1,
   "metadata": {
    "ExecuteTime": {
     "end_time": "2021-04-08T15:30:02.123772Z",
     "start_time": "2021-04-08T15:29:41.963064Z"
    }
   },
   "outputs": [],
   "source": [
    "import numpy as np\n",
    "import pandas as pd\n",
    "import seaborn as sns\n",
    "from matplotlib import pyplot as plt\n",
    "from sklearn import metrics\n",
    "from sklearn.metrics import mean_absolute_error\n",
    "from sklearn.metrics import mean_squared_error\n",
    "import matplotlib\n",
    "from keras.utils import to_categorical\n",
    "from sklearn.metrics import accuracy_score\n",
    "from sklearn import preprocessing\n",
    "import math"
   ]
  },
  {
   "cell_type": "markdown",
   "metadata": {},
   "source": [
    "## Klasa mlp"
   ]
  },
  {
   "cell_type": "code",
   "execution_count": 44,
   "metadata": {
    "ExecuteTime": {
     "end_time": "2021-04-08T15:47:59.099938Z",
     "start_time": "2021-04-08T15:47:59.058903Z"
    },
    "code_folding": []
   },
   "outputs": [],
   "source": [
    "class MLP:\n",
    "    \"\"\"\n",
    "    layers - wektor zawierający liczbę kolejnych neuronów warstwach, w tym wejscie i wyjscie\n",
    "    weights_biases - wybor metody losowania wag\n",
    "    activation_function - funkcja aktywacji\n",
    "    activation_function_der - pochodna funkcja aktywacji\n",
    "    delta_w, delta_b - zmiana biasu i wag w propagacji wstecznej\n",
    "    softmax_metod - zastosowanie softmax na ostatniej warstwie\n",
    "    \"\"\"\n",
    "    \n",
    "    \n",
    "    def __init__(self, layers, weights_biases, activation_function, softmax_method = False, regularization = \"none\"):\n",
    "        self.layers = layers\n",
    "        self.softmax_method = softmax_method\n",
    "        self.weights = []\n",
    "        self.biases = []\n",
    "        self.delta_w = []\n",
    "        self.delta_b = []\n",
    "        \n",
    "        if activation_function == \"sigmoid\":\n",
    "            self.activation_function = self.sigmoid\n",
    "            self.activation_function_der = self.sigmoid_der\n",
    "        elif activation_function == \"linear\":\n",
    "            self.activation_function = self.linear\n",
    "            self.activation_function_der = self.linear_der\n",
    "        elif activation_function == \"tanh\":\n",
    "            self.activation_function = self.tanh\n",
    "            self.activation_function_der = self.tanh_der\n",
    "        elif activation_function == \"relu\":\n",
    "            self.activation_function = self.relu\n",
    "            self.activation_function_der = self.relu_der\n",
    "\n",
    "        if weights_biases == \"Random\":\n",
    "            self.weights_random()\n",
    "        elif weights_biases == \"Xavier\": \n",
    "            self.weights_xavier()\n",
    "        \n",
    "    def weights_random(self):\n",
    "        \"\"\"\n",
    "        losowanie wag z rozkladu jednostajnego z przedzialu [-1,1] \n",
    "        \"\"\"\n",
    "        for i in range(len(self.layers) - 1):\n",
    "            self.weights.append(np.random.uniform(\n",
    "                -1, 1, self.layers[i] * self.layers[i + 1]).reshape(layers[i], self.layers[i + 1]))\n",
    "            self.biases.append(np.random.uniform(-1, 1, self.layers[i + 1]).reshape(1, self.layers[i+1]))\n",
    "            \n",
    "    def weights_xavier(self):\n",
    "        \"\"\"\n",
    "        losowanie wag metodą Xaviera\n",
    "        \"\"\"\n",
    "        xavier = np.sqrt(6)/np.sqrt(self.layers[1]+self.layers[-1])\n",
    "        for i in range(len(self.layers) - 1):\n",
    "            self.weights.append(xavier * np.random.uniform(\n",
    "                -1, 1, self.layers[i] * self.layers[i + 1]).reshape(layers[i], self.layers[i + 1]))\n",
    "            self.biases.append(xavier * np.random.uniform(-1, 1, self.layers[i + 1]).reshape(1, self.layers[i+1]))\n",
    "\n",
    "    \n",
    "    def forward(self, inputs):\n",
    "        \"\"\"\n",
    "        przejscie do przodu po sieci \n",
    "        \"\"\"\n",
    "        self.A = []\n",
    "        self.z = []\n",
    "\n",
    "        a = inputs\n",
    "        self.A.append(a)\n",
    "        for i in range(len(self.layers)-2):\n",
    "\n",
    "            outputs = a @ self.weights[i] + self.biases[i]\n",
    "            self.z.append(outputs)\n",
    "            a = self.activation_function(outputs)\n",
    "            self.A.append(a)\n",
    "        results = a @ self.weights[-1] + self.biases[-1]\n",
    "        if self.softmax_method:\n",
    "            results = self.softmax(results)\n",
    "        self.z.append(results)\n",
    "        self.A.append(results)\n",
    "        return results\n",
    "\n",
    "    def backward(self, y):\n",
    "        \"\"\"\n",
    "        propagacja wsteczna\n",
    "        \"\"\"\n",
    "        m = y.shape[0]\n",
    "        D = [None] * len(self.weights)\n",
    "        \n",
    "        if self.softmax_method:\n",
    "            temp = []\n",
    "            for a, y_ in zip(self.A[-1], y):\n",
    "                error = y_ - a\n",
    "                a_ = a.reshape(a.shape[0], )\n",
    "                si_sj = - a_ * a_.reshape(self.layers[-1], 1)\n",
    "                sof_der = np.diag(a_) + si_sj\n",
    "                temp.append(sof_der @ error)\n",
    "\n",
    "            temp = np.array(temp)\n",
    "            D[-1] = temp\n",
    "        \n",
    "        else:\n",
    "            D[-1] = y - self.A[-1]\n",
    "        \n",
    "        \n",
    "        for i in reversed(range(len(D) - 1)):\n",
    "            D[i] = ((self.weights[i + 1] @ D[i + 1].T ) * self.activation_function_der(self.z[i]).T).T\n",
    "\n",
    "        delta_b = [None] * len(D)\n",
    "        delta_w = [None] * len(D)\n",
    "        \n",
    "        for i, d in enumerate(D):\n",
    "            delta_w[i] = (d.T @ self.A[i]).T / m\n",
    "            delta_b[i] = (d.T @ np.ones((m, 1))).T / m\n",
    "\n",
    "        return delta_w, delta_b\n",
    "\n",
    "    def learn(self, x, y, batch_size=20, iterations=500, alpha=0.01, \n",
    "              method = \"Classic\", var=0.4, lambda_=0, inc_stop = False):\n",
    "        \"\"\"\n",
    "        alpha - learning rate\n",
    "        method - wybór metody uczenia Classic(default)/Momentum/RMSProp\n",
    "        var - współczynnik wygaszania\n",
    "        \"\"\"\n",
    "        \n",
    "        p = np.random.permutation(len(x))\n",
    "        x = x[p]\n",
    "        y = y[p]\n",
    "        tr = math.floor(0.9*len(x))\n",
    "        x_test = x[tr:]\n",
    "        y_test = y[tr:]\n",
    "        x = x[:tr]\n",
    "        y = y[:tr]\n",
    "        \n",
    "        m = x.size\n",
    "        \n",
    "        min_error = math.inf\n",
    "        current_error = 0\n",
    "        \n",
    "        method_w = [np.zeros(w.shape) for w in self.weights]\n",
    "        method_b = [np.zeros(b.shape) for b in self.biases]\n",
    "\n",
    "        for iteration in range(iterations):\n",
    "            i = 0\n",
    "            \n",
    "            while i < len(y):\n",
    "                x_batch = x[i:i + batch_size]\n",
    "                y_batch = y[i:i + batch_size]\n",
    "                i = i + batch_size\n",
    "                self.forward(x_batch)\n",
    "                delta_w, delta_b = self.backward(y_batch)\n",
    "                \n",
    "                if method == \"Classic\":\n",
    "                    for j, weight in enumerate(self.weights):    \n",
    "                        self.weights[j] = weight + alpha * delta_w[j]\n",
    "                    \n",
    "                    for j, bias in enumerate(self.biases):\n",
    "                        self.biases[j] = bias + alpha * delta_b[j]   \n",
    "                \n",
    "                elif method == \"Momentum\":\n",
    "                    for j, weight in enumerate(self.weights):    \n",
    "                        method_w[j] = method_w[j] * var + delta_w[j]\n",
    "                        self.weights[j] = weight + alpha * method_w[j]\n",
    "                    \n",
    "                    for j, bias in enumerate(self.biases):\n",
    "                        method_b[j] = method_b[j] * var + delta_b[j]\n",
    "                        self.biases[j] = bias + alpha * method_b[j]\n",
    "                        \n",
    "                elif method == \"RMSProp\":\n",
    "                    for j, weight in enumerate(self.weights):    \n",
    "                        method_w[j] = var * method_w[j] + (1-var) * delta_w[j] ** 2\n",
    "                        self.weights[j] = weight + alpha * (delta_w[j]/np.sqrt(method_w[j]) + 10**-8)\n",
    "                    \n",
    "                    for j, bias in enumerate(self.biases):\n",
    "                        method_b[j] = var * method_b[j] + (1-var) * delta_b[j] ** 2\n",
    "                        self.biases[j] = bias + alpha * (delta_b[j]/np.sqrt(method_b[j]) + 10**-8)\n",
    "            current_error = 1/m * mean_squared_error(self.forward(x_test), y_test) + lambda_ * sum([np.sum(np.abs(x)) + np.sum(np.abs(y)) for x,y in zip(self.weights,self.biases)]) / (2*m)\n",
    "            if (inc_stop * current_error > 1.5 * min_error):\n",
    "                break\n",
    "            if (current_error < min_error):\n",
    "                min_error = current_error\n",
    "                \n",
    "    def classify(self,x):\n",
    "        probability = self.forward(x)\n",
    "        return [i.argmax() for i in probability]\n",
    "    \n",
    "    \n",
    "    @staticmethod\n",
    "    def sigmoid(x):\n",
    "        z = np.array(x)\n",
    "        return 1 / (1 + np.exp(-z))\n",
    "    \n",
    "    @staticmethod\n",
    "    def sigmoid_der(x):\n",
    "        return MLP.sigmoid(x) * (1 - MLP.sigmoid(x))\n",
    "    \n",
    "    @staticmethod\n",
    "    def softmax(x):\n",
    "        e_x = np.exp(x.T - np.max(x, axis=1).T).T\n",
    "        return (e_x.T / e_x.sum(axis=1).T).T\n",
    "    \n",
    "    @staticmethod\n",
    "    def linear(x):\n",
    "        return np.array(x)\n",
    "    \n",
    "    @staticmethod\n",
    "    def linear_der(x):\n",
    "        return np.ones(x.shape)\n",
    "    \n",
    "    @staticmethod\n",
    "    def tanh(x):\n",
    "        return np.tanh(x)\n",
    "    \n",
    "    @staticmethod\n",
    "    def tanh_der(x):\n",
    "        return 1/np.cosh(x)**2\n",
    "    \n",
    "    @staticmethod\n",
    "    def relu(x):\n",
    "        z = np.array(x)    \n",
    "        return np.maximum(0,z)\n",
    "    \n",
    "    @staticmethod\n",
    "    def relu_der(x):\n",
    "        z = np.array(x)    \n",
    "        z[z<0]=0\n",
    "        z[z!=0] = 1\n",
    "        return z\n"
   ]
  },
  {
   "cell_type": "markdown",
   "metadata": {},
   "source": [
    "### Multimodal sparse"
   ]
  },
  {
   "cell_type": "code",
   "execution_count": 45,
   "metadata": {
    "ExecuteTime": {
     "end_time": "2021-04-08T15:47:59.674192Z",
     "start_time": "2021-04-08T15:47:59.652527Z"
    },
    "scrolled": true
   },
   "outputs": [],
   "source": [
    "train_df = pd.read_csv('mio_data/regression/multimodal-sparse-training.csv')\n",
    "test_df = pd.read_csv('mio_data/regression/multimodal-sparse-test.csv')\n",
    "\n",
    "normalized_train_df=(train_df-train_df.mean())/train_df.std()\n",
    "\n",
    "x = np.asarray(train_df['x']).reshape(-1, 1)\n",
    "y = np.asarray(train_df['y']).reshape(-1, 1)\n",
    "\n",
    "x_normalized = np.asarray((train_df['x']-train_df['x'].mean())/train_df['x'].std()).reshape(-1, 1)\n",
    "y_normalized = np.asarray((train_df['y']-train_df['y'].mean())/train_df['y'].std()).reshape(-1, 1)\n",
    "\n",
    "x_test = np.asarray(test_df['x']).reshape(-1,1)\n",
    "y_test = np.asarray(test_df['y']).reshape(-1, 1)\n",
    "\n",
    "x_normalized_test = np.asarray((test_df['x']-test_df['x'].mean())/test_df['x'].std()).reshape(-1, 1)\n",
    "y_normalized_test = np.asarray((test_df['y']-test_df['y'].mean())/test_df['y'].std()).reshape(-1, 1)\n"
   ]
  },
  {
   "cell_type": "code",
   "execution_count": 46,
   "metadata": {
    "ExecuteTime": {
     "end_time": "2021-04-08T15:47:59.932421Z",
     "start_time": "2021-04-08T15:47:59.928069Z"
    }
   },
   "outputs": [],
   "source": [
    "iterations_set = [1,5,10,25,50]"
   ]
  },
  {
   "cell_type": "code",
   "execution_count": 63,
   "metadata": {
    "ExecuteTime": {
     "end_time": "2021-04-08T15:51:56.810282Z",
     "start_time": "2021-04-08T15:51:56.487464Z"
    },
    "scrolled": false
   },
   "outputs": [],
   "source": [
    "layers = [1, 10, 1]\n",
    "\n",
    "results_def = []\n",
    "results_reg = []\n",
    "\n",
    "for iterations in iterations_set:\n",
    "    for _ in range (2):\n",
    "        results_def_temp = []\n",
    "        results_reg_temp = []\n",
    "        \n",
    "        mlp_def = MLP(\n",
    "        layers = layers, \n",
    "        weights_biases = \"Xavier\",\n",
    "        activation_function = \"tanh\", \n",
    "        softmax_method = False)\n",
    "\n",
    "        mlp_def.learn(x_normalized, y_normalized, iterations=iterations, batch_size = 20, \n",
    "                          alpha=0.01, lambda_=0, inc_stop = True)\n",
    "        results_def_temp.append(mean_absolute_error(y_normalized_test, \n",
    "                                                        mlp_def.forward(x_normalized_test)))\n",
    "\n",
    "        mlp_reg = MLP(\n",
    "        layers = layers, \n",
    "        weights_biases = \"Xavier\",\n",
    "        activation_function = \"tanh\", \n",
    "        softmax_method = False)\n",
    "\n",
    "        mlp_reg.learn(x_normalized, y_normalized, iterations=iterations, batch_size = 20, \n",
    "                       alpha=0.01, lambda_=1, inc_stop = True)\n",
    "        results_reg_temp.append(mean_absolute_error(y_normalized_test, \n",
    "                                                     mlp_reg.forward(x_normalized_test)))\n",
    "\n",
    "    results_def.append(np.mean(results_def_temp))\n",
    "    results_reg.append(np.mean(results_reg_temp))"
   ]
  },
  {
   "cell_type": "code",
   "execution_count": 64,
   "metadata": {
    "ExecuteTime": {
     "end_time": "2021-04-08T15:51:57.116929Z",
     "start_time": "2021-04-08T15:51:56.964254Z"
    },
    "scrolled": false
   },
   "outputs": [
    {
     "data": {
      "text/plain": [
       "<matplotlib.legend.Legend at 0x7f119c2d72b0>"
      ]
     },
     "execution_count": 64,
     "metadata": {},
     "output_type": "execute_result"
    },
    {
     "data": {
      "image/png": "[encoded data removed]",
      "text/plain": [
       "<Figure size 432x288 with 1 Axes>"
      ]
     },
     "metadata": {
      "needs_background": "light"
     },
     "output_type": "display_data"
    }
   ],
   "source": [
    "df=pd.DataFrame({'x_values': iterations_set, 'Default': results_def,\n",
    "                                             'Regularized': results_reg})\n",
    "plt.plot( 'x_values', 'Default', data=df, marker='o', markerfacecolor='skyblue', markersize=8, color='skyblue', linewidth=4, linestyle='dotted')\n",
    "plt.plot( 'x_values', 'Regularized', data=df, marker='o', markerfacecolor='pink', markersize=8, color='pink', linewidth=4, linestyle='dotted')\n",
    "plt.title(\"MAE\")\n",
    "plt.legend()"
   ]
  },
  {
   "cell_type": "markdown",
   "metadata": {},
   "source": [
    "Widzimy, że obie sieci osiągnęły bardzo podobne rezultaty, jednak sieć z regularyzacją zbiegła szybciej."
   ]
  },
  {
   "cell_type": "markdown",
   "metadata": {},
   "source": [
    "## Rings5 "
   ]
  },
  {
   "cell_type": "code",
   "execution_count": 65,
   "metadata": {
    "ExecuteTime": {
     "end_time": "2021-04-08T15:52:11.296970Z",
     "start_time": "2021-04-08T15:52:11.264212Z"
    }
   },
   "outputs": [],
   "source": [
    "train_df = pd.read_csv('mio_data/classification/rings5-regular-training.csv')\n",
    "test_df = pd.read_csv('mio_data/classification/rings5-regular-test.csv')\n",
    "\n",
    "normalized_train_df=(train_df-train_df.mean())/train_df.std()\n",
    "normalized_test_df=(test_df-test_df.mean())/test_df.std()\n",
    "\n",
    "\n",
    "x = np.asarray(normalized_train_df[['x', 'y']])\n",
    "x_test = np.asarray(normalized_test_df[['x', 'y']])\n",
    "c = np.asarray(train_df['c']).reshape(-1, 1)\n",
    "c_test = np.asarray(test_df['c']).reshape(-1, 1)\n",
    "\n",
    "encoded = to_categorical(c)"
   ]
  },
  {
   "cell_type": "code",
   "execution_count": 66,
   "metadata": {
    "ExecuteTime": {
     "end_time": "2021-04-08T15:52:11.589313Z",
     "start_time": "2021-04-08T15:52:11.584223Z"
    }
   },
   "outputs": [],
   "source": [
    "iterations_set = [1,5,10,25,50,100]"
   ]
  },
  {
   "cell_type": "code",
   "execution_count": 67,
   "metadata": {
    "ExecuteTime": {
     "end_time": "2021-04-08T15:52:23.925061Z",
     "start_time": "2021-04-08T15:52:11.912403Z"
    },
    "code_folding": [],
    "scrolled": true
   },
   "outputs": [],
   "source": [
    "layers = [2, 16,16, 5]\n",
    "\n",
    "results_def = []\n",
    "results_reg = []\n",
    "\n",
    "for iterations in iterations_set:\n",
    "    for _ in range (2):\n",
    "        results_def_temp = []\n",
    "        results_reg_temp = []\n",
    "        \n",
    "        mlp_def = MLP(\n",
    "        layers = layers, \n",
    "        weights_biases = \"Xavier\",\n",
    "        activation_function = \"tanh\", \n",
    "        softmax_method = True)\n",
    "\n",
    "        mlp_def.learn(x, encoded, iterations=iterations, batch_size = 20, \n",
    "                          alpha=0.01, var=0.9, method = \"Momentum\", lambda_=0, inc_stop = True)\n",
    "        results_def_temp.append(accuracy_score(c_test, mlp_def.classify(x_test)))\n",
    "\n",
    "        mlp_reg = MLP(\n",
    "        layers = layers, \n",
    "        weights_biases = \"Xavier\",\n",
    "        activation_function = \"tanh\", \n",
    "        softmax_method = True)\n",
    "\n",
    "        mlp_reg.learn(x, encoded, iterations=iterations, batch_size = 20, \n",
    "                       alpha=0.1, var=0.9, method = \"Momentum\", lambda_=1, inc_stop = True)\n",
    "        results_reg_temp.append(accuracy_score(c_test, mlp_reg.classify(x_test)))\n",
    "\n",
    "    results_def.append(np.mean(results_def_temp))\n",
    "    results_reg.append(np.mean(results_reg_temp))"
   ]
  },
  {
   "cell_type": "code",
   "execution_count": 68,
   "metadata": {
    "ExecuteTime": {
     "end_time": "2021-04-08T15:52:24.174771Z",
     "start_time": "2021-04-08T15:52:23.926633Z"
    },
    "scrolled": false
   },
   "outputs": [
    {
     "data": {
      "text/plain": [
       "<matplotlib.legend.Legend at 0x7f119cbf82e0>"
      ]
     },
     "execution_count": 68,
     "metadata": {},
     "output_type": "execute_result"
    },
    {
     "data": {
      "image/png": "[encoded data removed]",
      "text/plain": [
       "<Figure size 432x288 with 1 Axes>"
      ]
     },
     "metadata": {
      "needs_background": "light"
     },
     "output_type": "display_data"
    }
   ],
   "source": [
    "df=pd.DataFrame({'x_values': iterations_set, 'Default': results_def,\n",
    "                                             'Regularized': results_reg})\n",
    "plt.plot( 'x_values', 'Default', data=df, marker='o', markerfacecolor='skyblue', markersize=8, color='skyblue', linewidth=4, linestyle='dotted')\n",
    "plt.plot( 'x_values', 'Regularized', data=df, marker='o', markerfacecolor='pink', markersize=8, color='pink', linewidth=4, linestyle='dotted')\n",
    "plt.title(\"Accuracy\")\n",
    "plt.legend()"
   ]
  },
  {
   "cell_type": "markdown",
   "metadata": {},
   "source": [
    "W tym przypadku sieć regularyzowana poradziła sobie gorzej od domyślnej. Może to wynikać ze struktury zbioru."
   ]
  },
  {
   "cell_type": "markdown",
   "metadata": {},
   "source": [
    "## Rings3"
   ]
  },
  {
   "cell_type": "code",
   "execution_count": 54,
   "metadata": {
    "ExecuteTime": {
     "end_time": "2021-04-08T15:49:09.747447Z",
     "start_time": "2021-04-08T15:49:09.718757Z"
    }
   },
   "outputs": [],
   "source": [
    "train_df = pd.read_csv('mio_data/classification/rings3-balance-training.csv')\n",
    "test_df = pd.read_csv('mio_data/classification/rings3-balance-test.csv')\n",
    "\n",
    "normalized_train_df=(train_df-train_df.mean())/train_df.std()\n",
    "normalized_test_df=(test_df-test_df.mean())/test_df.std()\n",
    "\n",
    "\n",
    "x = np.asarray(normalized_train_df[['x', 'y']])\n",
    "x_test = np.asarray(normalized_test_df[['x', 'y']])\n",
    "c = np.asarray(train_df['c']).reshape(-1, 1)\n",
    "c_test = np.asarray(test_df['c']).reshape(-1, 1)\n",
    "\n",
    "encoded = to_categorical(c)"
   ]
  },
  {
   "cell_type": "code",
   "execution_count": 55,
   "metadata": {
    "ExecuteTime": {
     "end_time": "2021-04-08T15:49:10.076784Z",
     "start_time": "2021-04-08T15:49:10.070341Z"
    }
   },
   "outputs": [],
   "source": [
    "iterations_set = [1,5,10,25,50,100]"
   ]
  },
  {
   "cell_type": "code",
   "execution_count": 56,
   "metadata": {
    "ExecuteTime": {
     "end_time": "2021-04-08T15:49:29.811756Z",
     "start_time": "2021-04-08T15:49:10.367959Z"
    },
    "code_folding": []
   },
   "outputs": [],
   "source": [
    "layers = [2, 16,16, 3]\n",
    "\n",
    "results_def = []\n",
    "results_reg = []\n",
    "\n",
    "for iterations in iterations_set:\n",
    "    for _ in range (2):\n",
    "        results_def_temp = []\n",
    "        results_reg_temp = []\n",
    "        \n",
    "        mlp_def = MLP(\n",
    "        layers = layers, \n",
    "        weights_biases = \"Xavier\",\n",
    "        activation_function = \"tanh\", \n",
    "        softmax_method = True)\n",
    "\n",
    "        mlp_def.learn(x, encoded, iterations=iterations, batch_size = 20, \n",
    "                          alpha=0.01, var=0.9, method = \"Momentum\", lambda_=0, inc_stop = True)\n",
    "        results_def_temp.append(accuracy_score(c_test, mlp_def.classify(x_test)))\n",
    "\n",
    "        mlp_reg = MLP(\n",
    "        layers = layers, \n",
    "        weights_biases = \"Xavier\",\n",
    "        activation_function = \"tanh\", \n",
    "        softmax_method = True)\n",
    "\n",
    "        mlp_reg.learn(x, encoded, iterations=iterations, batch_size = 20, \n",
    "                       alpha=0.1, var=0.9, method = \"Momentum\", lambda_=1, inc_stop = True)\n",
    "        results_reg_temp.append(accuracy_score(c_test, mlp_reg.classify(x_test)))\n",
    "\n",
    "    results_def.append(np.mean(results_def_temp))\n",
    "    results_reg.append(np.mean(results_reg_temp))"
   ]
  },
  {
   "cell_type": "code",
   "execution_count": 57,
   "metadata": {
    "ExecuteTime": {
     "end_time": "2021-04-08T15:49:29.955688Z",
     "start_time": "2021-04-08T15:49:29.815490Z"
    },
    "scrolled": true
   },
   "outputs": [
    {
     "data": {
      "text/plain": [
       "<matplotlib.legend.Legend at 0x7f119c3a0fd0>"
      ]
     },
     "execution_count": 57,
     "metadata": {},
     "output_type": "execute_result"
    },
    {
     "data": {
      "image/png": "[encoded data removed]",
      "text/plain": [
       "<Figure size 432x288 with 1 Axes>"
      ]
     },
     "metadata": {
      "needs_background": "light"
     },
     "output_type": "display_data"
    }
   ],
   "source": [
    "df=pd.DataFrame({'x_values': iterations_set, 'Default': results_def,\n",
    "                                             'Regularized': results_reg})\n",
    "plt.plot( 'x_values', 'Default', data=df, marker='o', markerfacecolor='skyblue', markersize=8, color='skyblue', linewidth=4, linestyle='dotted')\n",
    "plt.plot( 'x_values', 'Regularized', data=df, marker='o', markerfacecolor='pink', markersize=8, color='pink', linewidth=4, linestyle='dotted')\n",
    "plt.title(\"Accuracy\")\n",
    "plt.legend()"
   ]
  },
  {
   "cell_type": "markdown",
   "metadata": {},
   "source": [
    "W tym przypadku lepiej wypadła sieć domyślna, jednak warto zwrócić uwagę, że sieć regularyzowana zbiegła bardzo szybko w porównaniu do domyślnej. "
   ]
  },
  {
   "cell_type": "markdown",
   "metadata": {},
   "source": [
    "## XOR3"
   ]
  },
  {
   "cell_type": "code",
   "execution_count": 69,
   "metadata": {
    "ExecuteTime": {
     "end_time": "2021-04-08T15:55:45.954547Z",
     "start_time": "2021-04-08T15:55:45.926324Z"
    }
   },
   "outputs": [],
   "source": [
    "train_df = pd.read_csv('mio_data/classification/xor3-balance-training.csv')\n",
    "test_df = pd.read_csv('mio_data/classification/xor3-balance-test.csv')\n",
    "\n",
    "normalized_train_df=(train_df-train_df.mean())/train_df.std()\n",
    "normalized_test_df=(test_df-test_df.mean())/test_df.std()\n",
    "\n",
    "\n",
    "x = np.asarray(normalized_train_df[['x', 'y']])\n",
    "x_test = np.asarray(normalized_test_df[['x', 'y']])\n",
    "c = np.asarray(train_df['c']).reshape(-1, 1)\n",
    "c_test = np.asarray(test_df['c']).reshape(-1, 1)\n",
    "\n",
    "encoded = to_categorical(c)"
   ]
  },
  {
   "cell_type": "code",
   "execution_count": 70,
   "metadata": {
    "ExecuteTime": {
     "end_time": "2021-04-08T15:55:46.126014Z",
     "start_time": "2021-04-08T15:55:46.120716Z"
    }
   },
   "outputs": [],
   "source": [
    "iterations_set = [1,5,10,25,50,100]"
   ]
  },
  {
   "cell_type": "code",
   "execution_count": 71,
   "metadata": {
    "ExecuteTime": {
     "end_time": "2021-04-08T15:56:02.721268Z",
     "start_time": "2021-04-08T15:55:46.320689Z"
    },
    "code_folding": []
   },
   "outputs": [],
   "source": [
    "layers = [2, 16,16, 2]\n",
    "\n",
    "results_def = []\n",
    "results_reg = []\n",
    "\n",
    "for iterations in iterations_set:\n",
    "    for _ in range (2):\n",
    "        results_def_temp = []\n",
    "        results_reg_temp = []\n",
    "        \n",
    "        mlp_def = MLP(\n",
    "        layers = layers, \n",
    "        weights_biases = \"Xavier\",\n",
    "        activation_function = \"tanh\", \n",
    "        softmax_method = True)\n",
    "\n",
    "        mlp_def.learn(x, encoded, iterations=iterations, batch_size = 20, \n",
    "                          alpha=0.01, var=0.9, method = \"Momentum\", lambda_=0, inc_stop = True)\n",
    "        results_def_temp.append(accuracy_score(c_test, mlp_def.classify(x_test)))\n",
    "\n",
    "        mlp_reg = MLP(\n",
    "        layers = layers, \n",
    "        weights_biases = \"Xavier\",\n",
    "        activation_function = \"tanh\", \n",
    "        softmax_method = True)\n",
    "\n",
    "        mlp_reg.learn(x, encoded, iterations=iterations, batch_size = 20, \n",
    "                       alpha=0.1, var=0.9, method = \"Momentum\", lambda_=1, inc_stop = True)\n",
    "        results_reg_temp.append(accuracy_score(c_test, mlp_reg.classify(x_test)))\n",
    "\n",
    "    results_def.append(np.mean(results_def_temp))\n",
    "    results_reg.append(np.mean(results_reg_temp))"
   ]
  },
  {
   "cell_type": "code",
   "execution_count": 72,
   "metadata": {
    "ExecuteTime": {
     "end_time": "2021-04-08T15:56:02.852319Z",
     "start_time": "2021-04-08T15:56:02.723154Z"
    },
    "scrolled": true
   },
   "outputs": [
    {
     "data": {
      "text/plain": [
       "<matplotlib.legend.Legend at 0x7f119e764820>"
      ]
     },
     "execution_count": 72,
     "metadata": {},
     "output_type": "execute_result"
    },
    {
     "data": {
      "image/png": "[encoded data removed]",
      "text/plain": [
       "<Figure size 432x288 with 1 Axes>"
      ]
     },
     "metadata": {
      "needs_background": "light"
     },
     "output_type": "display_data"
    }
   ],
   "source": [
    "df=pd.DataFrame({'x_values': iterations_set, 'Default': results_def,\n",
    "                                             'Regularized': results_reg})\n",
    "plt.plot( 'x_values', 'Default', data=df, marker='o', markerfacecolor='skyblue', markersize=8, color='skyblue', linewidth=4, linestyle='dotted')\n",
    "plt.plot( 'x_values', 'Regularized', data=df, marker='o', markerfacecolor='pink', markersize=8, color='pink', linewidth=4, linestyle='dotted')\n",
    "plt.title(\"Accuracy\")\n",
    "plt.legend()"
   ]
  },
  {
   "cell_type": "markdown",
   "metadata": {},
   "source": [
    "Bardzo ciekawy eksperyment, widzimy, że zwykład sieć wyraźnie nie radzi sobie z tym zbiorem, natomiast sieć z regularyzacją wychodzi obronną ręką."
   ]
  }
 ],
 "metadata": {
  "kernelspec": {
   "display_name": "Python 3",
   "language": "python",
   "name": "python3"
  },
  "language_info": {
   "codemirror_mode": {
    "name": "ipython",
    "version": 3
   },
   "file_extension": ".py",
   "mimetype": "text/x-python",
   "name": "python",
   "nbconvert_exporter": "python",
   "pygments_lexer": "ipython3",
   "version": "3.8.5"
  },
  "toc": {
   "base_numbering": 1,
   "nav_menu": {},
   "number_sections": true,
   "sideBar": true,
   "skip_h1_title": false,
   "title_cell": "Table of Contents",
   "title_sidebar": "Contents",
   "toc_cell": false,
   "toc_position": {},
   "toc_section_display": true,
   "toc_window_display": false
  },
  "varInspector": {
   "cols": {
    "lenName": 16,
    "lenType": 16,
    "lenVar": 40
   },
   "kernels_config": {
    "python": {
     "delete_cmd_postfix": "",
     "delete_cmd_prefix": "del ",
     "library": "var_list.py",
     "varRefreshCmd": "print(var_dic_list())"
    },
    "r": {
     "delete_cmd_postfix": ") ",
     "delete_cmd_prefix": "rm(",
     "library": "var_list.r",
     "varRefreshCmd": "cat(var_dic_list()) "
    }
   },
   "oldHeight": 122.850334,
   "position": {
    "height": "422.85px",
    "left": "287px",
    "right": "20px",
    "top": "151px",
    "width": "800px"
   },
   "types_to_exclude": [
    "module",
    "function",
    "builtin_function_or_method",
    "instance",
    "_Feature"
   ],
   "varInspector_section_display": "block",
   "window_display": false
  }
 },
 "nbformat": 4,
 "nbformat_minor": 4
}
