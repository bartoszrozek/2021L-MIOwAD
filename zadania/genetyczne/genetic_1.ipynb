{
 "cells": [
  {
   "cell_type": "markdown",
   "metadata": {},
   "source": [
    "# Algorytm Genetyczny"
   ]
  },
  {
   "cell_type": "markdown",
   "metadata": {},
   "source": [
    "## Tydzień 2. - Implementacja algorytmu genetycznego – opt. f-cji kwadratowej w R³"
   ]
  },
  {
   "cell_type": "markdown",
   "metadata": {},
   "source": [
    "Napisać podstawowy algorytm genetyczny z mutacją gaussowską i krzyżowaniem jednopunktowym. Sprawdzić działanie algorytmu na funkcji $x^2+y^2+2z^2$ oraz na pięciowymiarowej funkcji Rastrigina. "
   ]
  },
  {
   "cell_type": "code",
   "execution_count": 131,
   "metadata": {
    "ExecuteTime": {
     "end_time": "2021-05-01T13:29:44.580724Z",
     "start_time": "2021-05-01T13:29:44.574569Z"
    }
   },
   "outputs": [],
   "source": [
    "import numpy as np\n",
    "from random import sample\n",
    "import math\n",
    "from bisect import bisect\n",
    "import random\n",
    "from IPython.display import Image\n",
    "from IPython.core.display import HTML "
   ]
  },
  {
   "cell_type": "code",
   "execution_count": 120,
   "metadata": {
    "ExecuteTime": {
     "end_time": "2021-05-01T13:28:47.333711Z",
     "start_time": "2021-05-01T13:28:47.310777Z"
    }
   },
   "outputs": [],
   "source": [
    "class genetic:\n",
    "    def __init__(self,function_, n_variables, population_size):\n",
    "        self.function_ = function_\n",
    "        self.n_variables = n_variables\n",
    "        self.population_size = population_size\n",
    "        self.population = [np.random.uniform(-5, 5, size=[n_variables]) for i in range(population_size)]\n",
    "    \n",
    "    def iteration(self):\n",
    "        p = np.random.permutation(self.population_size)[0:math.floor(self.population_size*0.2)]\n",
    "        mutated = genetic.mutate([self.population[i] for i in p])\n",
    "        p = np.random.permutation(self.population_size)[0:math.floor(self.population_size*0.7)]\n",
    "        children = genetic.crossover([self.population[i] for i in p])\n",
    "        whole_population = children + mutated + self.population\n",
    "        values = 1/np.array(list(map(self.function_,whole_population)))\n",
    "        probs = np.cumsum(values/sum(values))\n",
    "        survivors = [bisect(probs,el) for el in np.random.uniform(0,1,self.population_size)]\n",
    "        self.population = [whole_population[i] for i in survivors]\n",
    "    \n",
    "    def iterate(self,iterations):\n",
    "        for it in range(iterations):\n",
    "            self.iteration()\n",
    "            \n",
    "    def optimum(self):\n",
    "        values = np.array(list(map(self.function_,self.population)))\n",
    "        return np.array(self.population)[values == max(values)][0]\n",
    "    \n",
    "    @staticmethod\n",
    "    def mutation(element_):\n",
    "        return element_ + np.random.normal(0,2,len(element_))\n",
    "        \n",
    "    @staticmethod\n",
    "    def mutate(population_):\n",
    "        return [genetic.mutation(el) for el in population_]\n",
    "    \n",
    "    @staticmethod\n",
    "    def cross(element1, element2):\n",
    "        i = random.randint(0, len(element1)-1)\n",
    "        element1_ = np.concatenate((element1[0:i],element2[i:]))\n",
    "        element2_ = np.concatenate((element2[0:i],element1[i:]))\n",
    "        return [np.array(element1_), np.array(element2_)]\n",
    "    \n",
    "    @staticmethod\n",
    "    def crossover(population_):\n",
    "        crossed = [genetic.cross(population_[i],population_[i+1]) for i in range(0,len(population_)-1,2)]\n",
    "        crossed = sum(crossed, [0,0])[2:]\n",
    "        return crossed\n",
    "    \n",
    "    "
   ]
  },
  {
   "cell_type": "markdown",
   "metadata": {},
   "source": [
    "## Funkcja 1."
   ]
  },
  {
   "cell_type": "markdown",
   "metadata": {},
   "source": [
    "$ x^2 + y^2 + 2z^2 $"
   ]
  },
  {
   "cell_type": "code",
   "execution_count": 121,
   "metadata": {
    "ExecuteTime": {
     "end_time": "2021-05-01T13:28:48.290303Z",
     "start_time": "2021-05-01T13:28:48.285780Z"
    }
   },
   "outputs": [],
   "source": [
    "def fun(list_):\n",
    "    x,y,z = list_\n",
    "    return x**2+y**2+2*z**2"
   ]
  },
  {
   "cell_type": "code",
   "execution_count": 122,
   "metadata": {
    "ExecuteTime": {
     "end_time": "2021-05-01T13:28:48.591554Z",
     "start_time": "2021-05-01T13:28:48.573545Z"
    }
   },
   "outputs": [],
   "source": [
    "alg = genetic(fun,3,1000)"
   ]
  },
  {
   "cell_type": "code",
   "execution_count": 123,
   "metadata": {
    "ExecuteTime": {
     "end_time": "2021-05-01T13:28:57.064888Z",
     "start_time": "2021-05-01T13:28:48.741644Z"
    }
   },
   "outputs": [],
   "source": [
    "alg.iterate(1000)"
   ]
  },
  {
   "cell_type": "code",
   "execution_count": 124,
   "metadata": {
    "ExecuteTime": {
     "end_time": "2021-05-01T13:28:57.075592Z",
     "start_time": "2021-05-01T13:28:57.066724Z"
    }
   },
   "outputs": [
    {
     "data": {
      "text/plain": [
       "array([-0.02188065,  0.00735865, -0.01085   ])"
      ]
     },
     "execution_count": 124,
     "metadata": {},
     "output_type": "execute_result"
    }
   ],
   "source": [
    "alg.optimum()"
   ]
  },
  {
   "cell_type": "code",
   "execution_count": 125,
   "metadata": {
    "ExecuteTime": {
     "end_time": "2021-05-01T13:28:57.151082Z",
     "start_time": "2021-05-01T13:28:57.077972Z"
    },
    "scrolled": true
   },
   "outputs": [
    {
     "data": {
      "text/plain": [
       "0.0007683576293571931"
      ]
     },
     "execution_count": 125,
     "metadata": {},
     "output_type": "execute_result"
    }
   ],
   "source": [
    "fun(alg.optimum())"
   ]
  },
  {
   "cell_type": "markdown",
   "metadata": {},
   "source": [
    "Widzimy, że algorytm znalazł punkt bardzo blisko minimum globalnego ([0,0,0])"
   ]
  },
  {
   "cell_type": "markdown",
   "metadata": {},
   "source": [
    "## Funkcja Rastringa"
   ]
  },
  {
   "cell_type": "markdown",
   "metadata": {},
   "source": [
    "$50 + \\sum_{i=1}^{n}[ x_i^2 - 10*cos(2\\pi*x_i)] = 1 $"
   ]
  },
  {
   "cell_type": "markdown",
   "metadata": {},
   "source": [
    "Dwuwymiarowa funkcja Rastringa"
   ]
  },
  {
   "cell_type": "code",
   "execution_count": 155,
   "metadata": {
    "ExecuteTime": {
     "end_time": "2021-05-01T13:42:59.967846Z",
     "start_time": "2021-05-01T13:42:59.960023Z"
    },
    "scrolled": false
   },
   "outputs": [
    {
     "data": {
      "text/html": [
       "<img src=\"https://www.sfu.ca/~ssurjano/rastr.png\"/>"
      ],
      "text/plain": [
       "<IPython.core.display.Image object>"
      ]
     },
     "execution_count": 155,
     "metadata": {},
     "output_type": "execute_result"
    }
   ],
   "source": [
    "Image(url= \"https://www.sfu.ca/~ssurjano/rastr.png\")"
   ]
  },
  {
   "cell_type": "markdown",
   "metadata": {},
   "source": [
    "Trudno jest wyznaczyć minimum globalne funkcji Rastringa, ponieważ posiada ona wiele minimum lokalnych"
   ]
  },
  {
   "cell_type": "code",
   "execution_count": 156,
   "metadata": {
    "ExecuteTime": {
     "end_time": "2021-05-01T13:43:00.179062Z",
     "start_time": "2021-05-01T13:43:00.175437Z"
    }
   },
   "outputs": [],
   "source": [
    "def rastring_5(list_):\n",
    "    return 50 + sum([x**2 - 10*math.cos(2*math.pi*x) for x in list_])"
   ]
  },
  {
   "cell_type": "code",
   "execution_count": 163,
   "metadata": {
    "ExecuteTime": {
     "end_time": "2021-05-01T13:44:35.847954Z",
     "start_time": "2021-05-01T13:44:35.840587Z"
    }
   },
   "outputs": [],
   "source": [
    "alg = genetic(rastring_5,5,1000)"
   ]
  },
  {
   "cell_type": "code",
   "execution_count": 164,
   "metadata": {
    "ExecuteTime": {
     "end_time": "2021-05-01T13:44:50.859467Z",
     "start_time": "2021-05-01T13:44:36.125364Z"
    }
   },
   "outputs": [],
   "source": [
    "alg.iterate(1000)"
   ]
  },
  {
   "cell_type": "code",
   "execution_count": 165,
   "metadata": {
    "ExecuteTime": {
     "end_time": "2021-05-01T13:44:50.871537Z",
     "start_time": "2021-05-01T13:44:50.861333Z"
    },
    "scrolled": true
   },
   "outputs": [
    {
     "data": {
      "text/plain": [
       "array([ 0.01787783,  0.01573764,  0.02113008,  0.01056079, -0.00459848])"
      ]
     },
     "execution_count": 165,
     "metadata": {},
     "output_type": "execute_result"
    }
   ],
   "source": [
    "alg.optimum()"
   ]
  },
  {
   "cell_type": "code",
   "execution_count": 166,
   "metadata": {
    "ExecuteTime": {
     "end_time": "2021-05-01T13:44:50.943134Z",
     "start_time": "2021-05-01T13:44:50.873387Z"
    }
   },
   "outputs": [
    {
     "data": {
      "text/plain": [
       "0.22720210843804978"
      ]
     },
     "execution_count": 166,
     "metadata": {},
     "output_type": "execute_result"
    }
   ],
   "source": [
    "rastring_5(alg.optimum())"
   ]
  },
  {
   "cell_type": "markdown",
   "metadata": {},
   "source": [
    "Algorytm wypadł, dobrze, znaleziony punkt jest blisko minimum globalnego ([0,0,0,0,0])"
   ]
  }
 ],
 "metadata": {
  "kernelspec": {
   "display_name": "Python 3",
   "language": "python",
   "name": "python3"
  },
  "language_info": {
   "codemirror_mode": {
    "name": "ipython",
    "version": 3
   },
   "file_extension": ".py",
   "mimetype": "text/x-python",
   "name": "python",
   "nbconvert_exporter": "python",
   "pygments_lexer": "ipython3",
   "version": "3.8.5"
  }
 },
 "nbformat": 4,
 "nbformat_minor": 4
}
