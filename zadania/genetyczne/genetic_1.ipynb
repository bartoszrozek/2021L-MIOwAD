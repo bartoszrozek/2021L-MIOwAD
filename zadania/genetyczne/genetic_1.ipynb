{
 "cells": [
  {
   "cell_type": "code",
   "execution_count": 12,
   "metadata": {
    "ExecuteTime": {
     "end_time": "2021-05-01T13:05:13.821499Z",
     "start_time": "2021-05-01T13:05:13.819026Z"
    }
   },
   "outputs": [],
   "source": [
    "import numpy as np\n",
    "from random import sample\n",
    "import math\n",
    "from bisect import bisect\n",
    "import random"
   ]
  },
  {
   "cell_type": "code",
   "execution_count": 87,
   "metadata": {
    "ExecuteTime": {
     "end_time": "2021-05-01T13:19:13.106527Z",
     "start_time": "2021-05-01T13:19:13.095188Z"
    }
   },
   "outputs": [],
   "source": [
    "class genetic:\n",
    "    def __init__(self,function_, n_variables, population_size):\n",
    "        self.function_ = function_\n",
    "        self.n_variables = n_variables\n",
    "        self.population_size = population_size\n",
    "        self.population = [np.random.uniform(-5, 5, size=[n_variables]) for i in range(population_size)]\n",
    "    \n",
    "    def iteration(self):\n",
    "        p = np.random.permutation(self.population_size)[0:math.floor(self.population_size*0.2)]\n",
    "        mutated = genetic.mutate([self.population[i] for i in p])\n",
    "        p = np.random.permutation(self.population_size)[0:math.floor(self.population_size*0.7)]\n",
    "        children = genetic.crossover([self.population[i] for i in p])\n",
    "        whole_population = children + mutated + self.population\n",
    "        values = 1/np.array(list(map(self.function_,whole_population)))\n",
    "        probs = np.cumsum(values/sum(values))\n",
    "        survivors = [bisect(probs,el) for el in np.random.uniform(0,1,self.population_size)]\n",
    "        self.population = [whole_population[i] for i in survivors]\n",
    "    \n",
    "    def iterate(self,iterations):\n",
    "        for it in range(iterations):\n",
    "            self.iteration()\n",
    "            \n",
    "    def optimum(self):\n",
    "        values = np.array(list(map(self.function_,self.population)))\n",
    "        return np.array(self.population)[values == max(values)][0]\n",
    "    \n",
    "    @staticmethod\n",
    "    def mutation(element_):\n",
    "        return element_ + np.random.normal(0,2,len(element_))\n",
    "        \n",
    "    @staticmethod\n",
    "    def mutate(population_):\n",
    "        return [genetic.mutation(el) for el in population_]\n",
    "    \n",
    "    @staticmethod\n",
    "    def cross(element1, element2):\n",
    "        i = random.randint(0, len(element1)-1)\n",
    "        element1_ = np.concatenate((element1[0:i],element2[i:]))\n",
    "        element2_ = np.concatenate((element2[0:i],element1[i:]))\n",
    "        return [np.array(element1_), np.array(element2_)]\n",
    "    \n",
    "    @staticmethod\n",
    "    def crossover(population_):\n",
    "        crossed = [genetic.cross(population_[i],population_[i+1]) for i in range(0,len(population_)-1,2)]\n",
    "        crossed = sum(crossed, [0,0])[2:]\n",
    "        return crossed\n",
    "    \n",
    "    "
   ]
  },
  {
   "cell_type": "code",
   "execution_count": 88,
   "metadata": {
    "ExecuteTime": {
     "end_time": "2021-05-01T13:19:13.317873Z",
     "start_time": "2021-05-01T13:19:13.312391Z"
    }
   },
   "outputs": [],
   "source": [
    "def fun(list_):\n",
    "    x,y,z = list_\n",
    "    return x**2+y**2+2*z**2"
   ]
  },
  {
   "cell_type": "code",
   "execution_count": 89,
   "metadata": {
    "ExecuteTime": {
     "end_time": "2021-05-01T13:19:13.492120Z",
     "start_time": "2021-05-01T13:19:13.478279Z"
    }
   },
   "outputs": [],
   "source": [
    "alg = genetic(fun,3,1000)"
   ]
  },
  {
   "cell_type": "code",
   "execution_count": 90,
   "metadata": {
    "ExecuteTime": {
     "end_time": "2021-05-01T13:19:21.821805Z",
     "start_time": "2021-05-01T13:19:13.654671Z"
    }
   },
   "outputs": [],
   "source": [
    "alg.iterate(1000)"
   ]
  },
  {
   "cell_type": "code",
   "execution_count": 91,
   "metadata": {
    "ExecuteTime": {
     "end_time": "2021-05-01T13:19:21.832844Z",
     "start_time": "2021-05-01T13:19:21.823824Z"
    }
   },
   "outputs": [
    {
     "data": {
      "text/plain": [
       "array([0.03071375, 0.02083476, 0.01290427])"
      ]
     },
     "execution_count": 91,
     "metadata": {},
     "output_type": "execute_result"
    }
   ],
   "source": [
    "alg.optimum()"
   ]
  },
  {
   "cell_type": "code",
   "execution_count": 92,
   "metadata": {
    "ExecuteTime": {
     "end_time": "2021-05-01T13:19:21.971337Z",
     "start_time": "2021-05-01T13:19:21.834895Z"
    }
   },
   "outputs": [
    {
     "data": {
      "text/plain": [
       "0.001710461956861996"
      ]
     },
     "execution_count": 92,
     "metadata": {},
     "output_type": "execute_result"
    }
   ],
   "source": [
    "fun(alg.optimum())"
   ]
  },
  {
   "cell_type": "code",
   "execution_count": 93,
   "metadata": {
    "ExecuteTime": {
     "end_time": "2021-05-01T13:19:22.037857Z",
     "start_time": "2021-05-01T13:19:21.974495Z"
    }
   },
   "outputs": [],
   "source": [
    "def rastring_5(list_):\n",
    "    return 50 + sum([x**2 - 10*math.cos(2*math.pi*x) for x in list_])"
   ]
  },
  {
   "cell_type": "code",
   "execution_count": 98,
   "metadata": {
    "ExecuteTime": {
     "end_time": "2021-05-01T13:19:48.858983Z",
     "start_time": "2021-05-01T13:19:48.845817Z"
    }
   },
   "outputs": [],
   "source": [
    "alg = genetic(rastring_5,5,1000)"
   ]
  },
  {
   "cell_type": "code",
   "execution_count": 99,
   "metadata": {
    "ExecuteTime": {
     "end_time": "2021-05-01T13:20:02.857848Z",
     "start_time": "2021-05-01T13:19:49.028072Z"
    }
   },
   "outputs": [],
   "source": [
    "alg.iterate(1000)"
   ]
  },
  {
   "cell_type": "code",
   "execution_count": 100,
   "metadata": {
    "ExecuteTime": {
     "end_time": "2021-05-01T13:20:02.872962Z",
     "start_time": "2021-05-01T13:20:02.859591Z"
    }
   },
   "outputs": [
    {
     "data": {
      "text/plain": [
       "array([ 0.03287409, -0.02782211, -0.01268772,  0.04483569, -0.02206729])"
      ]
     },
     "execution_count": 100,
     "metadata": {},
     "output_type": "execute_result"
    }
   ],
   "source": [
    "alg.optimum()"
   ]
  },
  {
   "cell_type": "code",
   "execution_count": 101,
   "metadata": {
    "ExecuteTime": {
     "end_time": "2021-05-01T13:20:02.954456Z",
     "start_time": "2021-05-01T13:20:02.874964Z"
    }
   },
   "outputs": [
    {
     "data": {
      "text/plain": [
       "0.8914011813703269"
      ]
     },
     "execution_count": 101,
     "metadata": {},
     "output_type": "execute_result"
    }
   ],
   "source": [
    "rastring_5(alg.optimum())"
   ]
  },
  {
   "cell_type": "code",
   "execution_count": null,
   "metadata": {},
   "outputs": [],
   "source": []
  }
 ],
 "metadata": {
  "kernelspec": {
   "display_name": "Python 3",
   "language": "python",
   "name": "python3"
  },
  "language_info": {
   "codemirror_mode": {
    "name": "ipython",
    "version": 3
   },
   "file_extension": ".py",
   "mimetype": "text/x-python",
   "name": "python",
   "nbconvert_exporter": "python",
   "pygments_lexer": "ipython3",
   "version": "3.8.5"
  }
 },
 "nbformat": 4,
 "nbformat_minor": 4
}
