{
 "cells": [
  {
   "cell_type": "markdown",
   "metadata": {},
   "source": [
    "# Algorytm Genetyczny"
   ]
  },
  {
   "cell_type": "markdown",
   "metadata": {},
   "source": [
    "## Tydzień 3. -  Optymalizacja wag w sieci MLP z użyciem algorytmu genetycznego"
   ]
  },
  {
   "cell_type": "markdown",
   "metadata": {},
   "source": [
    "\n",
    "\n",
    "Zaimplementować proste uczenie MLP z użyciem algorytmu genetycznego. Na wejściu jest: struktura sieci neuronowej i dane uczące. Optymalizowana funkcja to funkcja przekształcająca wektor wag sieci na błąd na zbiorze uczącym. Zastosować standardowe operatory krzyżowania i mutacji.\n",
    "\n",
    "Przeprowadzić uczenie na zbiorach:\n",
    "\n",
    "    iris https://archive.ics.uci.edu/ml/datasets/Iris\n",
    "    multimodal-large (z części laboratorium o sieciach neuronowych)\n",
    "    auto-mpg (przewidzieć wartość mpg) - http://archive.ics.uci.edu/ml/datasets/Auto+MPG\n",
    "\n"
   ]
  },
  {
   "cell_type": "code",
   "execution_count": 1,
   "metadata": {
    "ExecuteTime": {
     "end_time": "2021-05-14T11:53:39.316875Z",
     "start_time": "2021-05-14T11:53:34.206960Z"
    }
   },
   "outputs": [],
   "source": [
    "import numpy as np\n",
    "from random import sample\n",
    "import math\n",
    "from bisect import bisect\n",
    "import random\n",
    "from IPython.display import Image\n",
    "from IPython.core.display import HTML \n",
    "from numpy import genfromtxt\n",
    "from sklearn import datasets\n",
    "from sklearn.metrics import accuracy_score\n",
    "from sklearn.metrics import mean_absolute_error\n",
    "import pandas as pd\n",
    "from matplotlib import pyplot as plt"
   ]
  },
  {
   "cell_type": "code",
   "execution_count": 137,
   "metadata": {
    "ExecuteTime": {
     "end_time": "2021-05-14T12:49:10.719756Z",
     "start_time": "2021-05-14T12:49:10.697753Z"
    },
    "code_folding": [
     0
    ]
   },
   "outputs": [],
   "source": [
    "class genetic:\n",
    "    def __init__(self,function_, n_variables, population_size):\n",
    "        self.function_ = function_\n",
    "        self.n_variables = n_variables\n",
    "        self.population_size = population_size\n",
    "        self.population = [np.random.uniform(-1, 1, size=[n_variables]) for i in range(population_size)]\n",
    "    \n",
    "    def iteration(self):\n",
    "        p = np.random.permutation(self.population_size)[0:math.floor(self.population_size*0.2)]\n",
    "        mutated = genetic.mutate([self.population[i] for i in p])\n",
    "        p = np.random.permutation(self.population_size)[0:math.floor(self.population_size*0.7)]\n",
    "        children = genetic.crossover([self.population[i] for i in p])\n",
    "        whole_population = children + mutated + self.population\n",
    "        values = np.array(list(map(self.function_,whole_population)))\n",
    "        probs = np.cumsum(values/sum(values))\n",
    "        survivors = [bisect(probs,el) for el in np.random.uniform(0,1,self.population_size)]\n",
    "        self.population = [whole_population[i] for i in survivors]\n",
    "    \n",
    "    def iterate(self,iterations):\n",
    "        for it in range(iterations):\n",
    "            self.iteration()\n",
    "            \n",
    "    def optimum(self):\n",
    "        values = np.array(list(map(self.function_,self.population)))\n",
    "        return np.array(self.population)[values == max(values)][0]\n",
    "    \n",
    "    @staticmethod\n",
    "    def mutation(element_):\n",
    "        return element_ + np.random.normal(0,2,len(element_))\n",
    "        \n",
    "    @staticmethod\n",
    "    def mutate(population_):\n",
    "        return [genetic.mutation(el) for el in population_]\n",
    "    \n",
    "    @staticmethod\n",
    "    def cross(element1, element2):\n",
    "        i = random.randint(0, len(element1)-1)\n",
    "        element1_ = np.concatenate((element1[0:i],element2[i:]))\n",
    "        element2_ = np.concatenate((element2[0:i],element1[i:]))\n",
    "        return [np.array(element1_), np.array(element2_)]\n",
    "    \n",
    "    @staticmethod\n",
    "    def crossover(population_):\n",
    "        crossed = [genetic.cross(population_[i],population_[i+1]) for i in range(0,len(population_)-1,2)]\n",
    "        crossed = sum(crossed, [0,0])[2:]\n",
    "        return crossed\n",
    "    \n",
    "    "
   ]
  },
  {
   "cell_type": "code",
   "execution_count": 3,
   "metadata": {
    "ExecuteTime": {
     "end_time": "2021-05-14T11:53:39.454748Z",
     "start_time": "2021-05-14T11:53:39.335871Z"
    },
    "code_folding": [
     0
    ]
   },
   "outputs": [],
   "source": [
    "class MLP:\n",
    "    \"\"\"\n",
    "    layers - wektor zawierający liczbę kolejnych neuronów warstwach, w tym wejscie i wyjscie\n",
    "    weights_biases - wybor metody losowania wag\n",
    "    activation_function - funkcja aktywacji\n",
    "    activation_function_der - pochodna funkcja aktywacji\n",
    "    delta_w, delta_b - zmiana biasu i wag w propagacji wstecznej\n",
    "    softmax_metod - zastosowanie softmax na ostatniej warstwie\n",
    "    \"\"\"\n",
    "    \n",
    "    \n",
    "    def __init__(self, layers, weights_biases, activation_function, softmax_method = False, regularization = \"none\"):\n",
    "        self.layers = layers\n",
    "        self.softmax_method = softmax_method\n",
    "        self.weights = []\n",
    "        self.biases = []\n",
    "        self.delta_w = []\n",
    "        self.delta_b = []\n",
    "        \n",
    "        if activation_function == \"sigmoid\":\n",
    "            self.activation_function = self.sigmoid\n",
    "            self.activation_function_der = self.sigmoid_der\n",
    "        elif activation_function == \"linear\":\n",
    "            self.activation_function = self.linear\n",
    "            self.activation_function_der = self.linear_der\n",
    "        elif activation_function == \"tanh\":\n",
    "            self.activation_function = self.tanh\n",
    "            self.activation_function_der = self.tanh_der\n",
    "        elif activation_function == \"relu\":\n",
    "            self.activation_function = self.relu\n",
    "            self.activation_function_der = self.relu_der\n",
    "\n",
    "        if weights_biases == \"Random\":\n",
    "            self.weights_random()\n",
    "        elif weights_biases == \"Xavier\": \n",
    "            self.weights_xavier()\n",
    "        \n",
    "    def weights_random(self):\n",
    "        \"\"\"\n",
    "        losowanie wag z rozkladu jednostajnego z przedzialu [-1,1] \n",
    "        \"\"\"\n",
    "        for i in range(len(self.layers) - 1):\n",
    "            self.weights.append(np.random.uniform(\n",
    "                -1, 1, self.layers[i] * self.layers[i + 1]).reshape(layers[i], self.layers[i + 1]))\n",
    "            self.biases.append(np.random.uniform(-1, 1, self.layers[i + 1]).reshape(1, self.layers[i+1]))\n",
    "            \n",
    "    def weights_xavier(self):\n",
    "        \"\"\"\n",
    "        losowanie wag metodą Xaviera\n",
    "        \"\"\"\n",
    "        xavier = np.sqrt(6)/np.sqrt(self.layers[1]+self.layers[-1])\n",
    "        for i in range(len(self.layers) - 1):\n",
    "            self.weights.append(xavier * np.random.uniform(\n",
    "                -1, 1, self.layers[i] * self.layers[i + 1]).reshape(layers[i], self.layers[i + 1]))\n",
    "            self.biases.append(xavier * np.random.uniform(-1, 1, self.layers[i + 1]).reshape(1, self.layers[i+1]))\n",
    "\n",
    "    \n",
    "    def forward(self, inputs):\n",
    "        \"\"\"\n",
    "        przejscie do przodu po sieci \n",
    "        \"\"\"\n",
    "        self.A = []\n",
    "        self.z = []\n",
    "\n",
    "        a = inputs\n",
    "        self.A.append(a)\n",
    "        for i in range(len(self.layers)-2):\n",
    "\n",
    "            outputs = a @ self.weights[i] + self.biases[i]\n",
    "            self.z.append(outputs)\n",
    "            a = self.activation_function(outputs)\n",
    "            self.A.append(a)\n",
    "        results = a @ self.weights[-1] + self.biases[-1]\n",
    "        if self.softmax_method:\n",
    "            results = self.softmax(results)\n",
    "        self.z.append(results)\n",
    "        self.A.append(results)\n",
    "        return results\n",
    "\n",
    " \n",
    "    def classify(self,x):\n",
    "        probability = self.forward(x)\n",
    "        return [i.argmax() for i in probability]\n",
    "    \n",
    "    \n",
    "    @staticmethod\n",
    "    def sigmoid(x):\n",
    "        z = np.array(x)\n",
    "        return 1 / (1 + np.exp(-z))\n",
    "    \n",
    "    @staticmethod\n",
    "    def sigmoid_der(x):\n",
    "        return MLP.sigmoid(x) * (1 - MLP.sigmoid(x))\n",
    "    \n",
    "    @staticmethod\n",
    "    def softmax(x):\n",
    "        e_x = np.exp(x.T - np.max(x, axis=1).T).T\n",
    "        return (e_x.T / e_x.sum(axis=1).T).T\n",
    "    \n",
    "    @staticmethod\n",
    "    def linear(x):\n",
    "        return np.array(x)\n",
    "    \n",
    "    @staticmethod\n",
    "    def linear_der(x):\n",
    "        return np.ones(x.shape)\n",
    "    \n",
    "    @staticmethod\n",
    "    def tanh(x):\n",
    "        return np.tanh(x)\n",
    "    \n",
    "    @staticmethod\n",
    "    def tanh_der(x):\n",
    "        return 1/np.cosh(x)**2\n",
    "    \n",
    "    @staticmethod\n",
    "    def relu(x):\n",
    "        z = np.array(x)    \n",
    "        return np.maximum(0,z)\n",
    "    \n",
    "    @staticmethod\n",
    "    def relu_der(x):\n",
    "        z = np.array(x)    \n",
    "        z[z<0]=0\n",
    "        z[z!=0] = 1\n",
    "        return z\n"
   ]
  },
  {
   "cell_type": "markdown",
   "metadata": {},
   "source": [
    "Korzystam z mojej klasy MLP, którą napisałem przy okazji pierwszej części laboratoriów."
   ]
  },
  {
   "cell_type": "markdown",
   "metadata": {},
   "source": [
    "## Zbiór 1."
   ]
  },
  {
   "cell_type": "markdown",
   "metadata": {},
   "source": [
    "W MLP wagi przechowywane są w postaci listy macierzy, poniższa funkcja zamienia wektor używany w klasie *genetic* na listę macierzy, które są wagami MLP."
   ]
  },
  {
   "cell_type": "code",
   "execution_count": 4,
   "metadata": {
    "ExecuteTime": {
     "end_time": "2021-05-14T11:53:47.415721Z",
     "start_time": "2021-05-14T11:53:47.407319Z"
    }
   },
   "outputs": [],
   "source": [
    "def vector_to_weights(vector_,layers):\n",
    "    matrices_ = [layers[i]*layers[i+1] for i in range(len(layers)-1)]\n",
    "    matrices_.insert(0,0)\n",
    "    matrices_cs = np.cumsum(matrices_)\n",
    "    weights = [vector_[matrices_cs[i]:matrices_cs[i+1]].reshape(layers[i], layers[i+1]) for i in range(len(matrices_cs)-1)]\n",
    "    return weights"
   ]
  },
  {
   "cell_type": "markdown",
   "metadata": {},
   "source": [
    "Funkcja licząca *accuracy* na zbiorze, tę funkcję optymalizuje (szukam jej maksimum)"
   ]
  },
  {
   "cell_type": "code",
   "execution_count": 147,
   "metadata": {
    "ExecuteTime": {
     "end_time": "2021-05-14T13:12:08.966430Z",
     "start_time": "2021-05-14T13:12:08.963798Z"
    }
   },
   "outputs": [],
   "source": [
    "def mlp_score(v):\n",
    "    vec = np.array(v)\n",
    "    mlp.weights = vector_to_weights(vec, layers)\n",
    "    return accuracy_score(labels, mlp.classify(df))"
   ]
  },
  {
   "cell_type": "code",
   "execution_count": 148,
   "metadata": {
    "ExecuteTime": {
     "end_time": "2021-05-14T13:12:09.614179Z",
     "start_time": "2021-05-14T13:12:09.448126Z"
    }
   },
   "outputs": [],
   "source": [
    "df = datasets.load_iris()['data']\n",
    "labels = datasets.load_iris()['target']"
   ]
  },
  {
   "cell_type": "code",
   "execution_count": 149,
   "metadata": {
    "ExecuteTime": {
     "end_time": "2021-05-14T13:12:09.753153Z",
     "start_time": "2021-05-14T13:12:09.746153Z"
    }
   },
   "outputs": [],
   "source": [
    "layers = [4,10,12,3]\n",
    "matrices = [layers[i]*layers[i+1] for i in range(len(layers)-1)]\n",
    "mlp = MLP(\n",
    "        layers = layers, \n",
    "        weights_biases = \"Xavier\",\n",
    "        activation_function = \"tanh\", \n",
    "        softmax_method = True)"
   ]
  },
  {
   "cell_type": "code",
   "execution_count": 150,
   "metadata": {
    "ExecuteTime": {
     "end_time": "2021-05-14T13:12:22.867793Z",
     "start_time": "2021-05-14T13:12:10.153223Z"
    },
    "code_folding": []
   },
   "outputs": [],
   "source": [
    "gen = genetic(mlp_score, sum(matrices), 100)\n",
    "results = []\n",
    "x_axis = []\n",
    "for i in range(100):\n",
    "    mlp.weights = vector_to_weights(gen.optimum(),layers)\n",
    "    results.append(accuracy_score(labels, mlp.classify(df)))\n",
    "    x_axis.append(i)\n",
    "    gen.iterate(1)"
   ]
  },
  {
   "cell_type": "code",
   "execution_count": 151,
   "metadata": {
    "ExecuteTime": {
     "end_time": "2021-05-14T13:12:22.993118Z",
     "start_time": "2021-05-14T13:12:22.869744Z"
    },
    "scrolled": true
   },
   "outputs": [
    {
     "data": {
      "text/plain": [
       "<matplotlib.legend.Legend at 0x7fede51f5fa0>"
      ]
     },
     "execution_count": 151,
     "metadata": {},
     "output_type": "execute_result"
    },
    {
     "data": {
      "image/png": "[encoded data removed]",
      "text/plain": [
       "<Figure size 432x288 with 1 Axes>"
      ]
     },
     "metadata": {
      "needs_background": "light"
     },
     "output_type": "display_data"
    }
   ],
   "source": [
    "df=pd.DataFrame({'x_values': x_axis, 'Results': results})\n",
    "plt.plot( 'x_values', 'Results', data=df, marker='o', markerfacecolor='skyblue', markersize=2, color='skyblue', linewidth=4)\n",
    "plt.title(\"Accuracy\")\n",
    "plt.legend()"
   ]
  },
  {
   "cell_type": "markdown",
   "metadata": {},
   "source": [
    "Widać, że algorytm genetyczny dobrze poradził sobie tym zbiorem. Funkcja nie jest śliśle rosnąca, jednak musimy się z tym liczyć opierając się na losowości. "
   ]
  },
  {
   "cell_type": "markdown",
   "metadata": {},
   "source": [
    "# Zbiór 2 "
   ]
  },
  {
   "cell_type": "code",
   "execution_count": 138,
   "metadata": {
    "ExecuteTime": {
     "end_time": "2021-05-14T12:49:13.951239Z",
     "start_time": "2021-05-14T12:49:13.931168Z"
    }
   },
   "outputs": [],
   "source": [
    "train_df = pd.read_csv('data/multimodal-large-training.csv')\n",
    "test_df = pd.read_csv('data/multimodal-large-test.csv')\n",
    "\n",
    "normalized_train_df=(train_df-train_df.mean())/train_df.std()\n",
    "\n",
    "x = np.asarray((train_df['x']-train_df['x'].mean())/train_df['x'].std()).reshape(-1, 1)\n",
    "y = np.asarray((train_df['y']-train_df['y'].mean())/train_df['y'].std()).reshape(-1, 1)\n",
    "\n",
    "x_test = np.asarray((test_df['x']-test_df['x'].mean())/test_df['x'].std()).reshape(-1, 1)\n",
    "y_test = np.asarray((test_df['y']-test_df['y'].mean())/test_df['y'].std()).reshape(-1, 1)\n",
    "\n",
    "x = np.asarray(train_df['x']).reshape(-1, 1)\n",
    "y = np.asarray(train_df['y']).reshape(-1, 1)\n",
    "x_test = np.asarray(test_df['x']).reshape(-1,1)\n",
    "y_test = np.asarray(test_df['y']).reshape(-1, 1)"
   ]
  },
  {
   "cell_type": "code",
   "execution_count": 139,
   "metadata": {
    "ExecuteTime": {
     "end_time": "2021-05-14T12:49:15.821871Z",
     "start_time": "2021-05-14T12:49:15.818880Z"
    }
   },
   "outputs": [],
   "source": [
    "def mlp_score_regression(v):\n",
    "    vec = np.array(v)\n",
    "    mlp.weights = vector_to_weights(vec, layers)\n",
    "    return 1/mean_absolute_error(y, mlp.forward(x))"
   ]
  },
  {
   "cell_type": "code",
   "execution_count": 140,
   "metadata": {
    "ExecuteTime": {
     "end_time": "2021-05-14T12:49:16.365244Z",
     "start_time": "2021-05-14T12:49:16.360516Z"
    }
   },
   "outputs": [],
   "source": [
    "layers = [1,10,12,1]\n",
    "matrices = [layers[i]*layers[i+1] for i in range(len(layers)-1)]\n",
    "mlp = MLP(\n",
    "        layers = layers, \n",
    "        weights_biases = \"Xavier\",\n",
    "        activation_function = \"tanh\", \n",
    "        softmax_method = False)"
   ]
  },
  {
   "cell_type": "code",
   "execution_count": 143,
   "metadata": {
    "ExecuteTime": {
     "end_time": "2021-05-14T12:54:17.410105Z",
     "start_time": "2021-05-14T12:50:04.319793Z"
    },
    "code_folding": []
   },
   "outputs": [],
   "source": [
    "gen = genetic(mlp_score_regression, sum(matrices), 100)\n",
    "\n",
    "results = []\n",
    "x_axis = []\n",
    "for i in range(100):\n",
    "    mlp.weights = vector_to_weights(gen.optimum(),layers)\n",
    "    results.append(mean_absolute_error(y_test, mlp.forward(x_test)))\n",
    "    x_axis.append(i)\n",
    "    gen.iterate(1)"
   ]
  },
  {
   "cell_type": "code",
   "execution_count": 144,
   "metadata": {
    "ExecuteTime": {
     "end_time": "2021-05-14T12:54:17.548013Z",
     "start_time": "2021-05-14T12:54:17.416567Z"
    },
    "scrolled": false
   },
   "outputs": [
    {
     "data": {
      "text/plain": [
       "<matplotlib.legend.Legend at 0x7fede52b5610>"
      ]
     },
     "execution_count": 144,
     "metadata": {},
     "output_type": "execute_result"
    },
    {
     "data": {
      "image/png": "[encoded data removed]",
      "text/plain": [
       "<Figure size 432x288 with 1 Axes>"
      ]
     },
     "metadata": {
      "needs_background": "light"
     },
     "output_type": "display_data"
    }
   ],
   "source": [
    "df=pd.DataFrame({'x_values': x_axis, 'Results': results})\n",
    "plt.plot( 'x_values', 'Results', data=df, marker='o', markerfacecolor='skyblue', markersize=5, color='skyblue', linewidth=4, linestyle='dotted')\n",
    "plt.title(\"MAE\")\n",
    "plt.legend()"
   ]
  },
  {
   "cell_type": "markdown",
   "metadata": {},
   "source": [
    "Algorytm poradził sobie bardzo dobrze, udało się obniżyć *Mean absolute error* z 70 na 20, co jest dobrym wynikiem."
   ]
  },
  {
   "cell_type": "markdown",
   "metadata": {},
   "source": [
    "# Zbiór 3 "
   ]
  },
  {
   "cell_type": "code",
   "execution_count": 152,
   "metadata": {
    "ExecuteTime": {
     "end_time": "2021-05-14T13:15:29.932008Z",
     "start_time": "2021-05-14T13:15:29.895116Z"
    }
   },
   "outputs": [],
   "source": [
    "df = pd.read_csv('data/auto-mpg.csv', sep='\\s+', header=None)\n",
    "df = df[df[3] != \"?\"]\n",
    "y = df.loc[:,0].to_numpy()\n",
    "x = df.loc[:,1:7]\n",
    "x = x.apply(pd.to_numeric).to_numpy()"
   ]
  },
  {
   "cell_type": "code",
   "execution_count": 110,
   "metadata": {
    "ExecuteTime": {
     "end_time": "2021-05-14T12:21:08.153584Z",
     "start_time": "2021-05-14T12:21:08.148582Z"
    }
   },
   "outputs": [],
   "source": [
    "layers = [7,10,12,1]\n",
    "matrices = [layers[i]*layers[i+1] for i in range(len(layers)-1)]\n",
    "mlp = MLP(\n",
    "        layers = layers, \n",
    "        weights_biases = \"Xavier\",\n",
    "        activation_function = \"tanh\", \n",
    "        softmax_method = False)"
   ]
  },
  {
   "cell_type": "code",
   "execution_count": 111,
   "metadata": {
    "ExecuteTime": {
     "end_time": "2021-05-14T12:21:41.503960Z",
     "start_time": "2021-05-14T12:21:08.314097Z"
    },
    "code_folding": []
   },
   "outputs": [],
   "source": [
    "gen = genetic(mlp_score_regression, sum(matrices), 300)\n",
    "results = []\n",
    "x_axis = []\n",
    "for i in range(100):\n",
    "    mlp.weights = vector_to_weights(gen.optimum(),layers)\n",
    "    results.append(mean_absolute_error(y, mlp.forward(x)))\n",
    "    x_axis.append(i)\n",
    "    gen.iterate(1)"
   ]
  },
  {
   "cell_type": "code",
   "execution_count": 112,
   "metadata": {
    "ExecuteTime": {
     "end_time": "2021-05-14T12:21:41.632081Z",
     "start_time": "2021-05-14T12:21:41.505901Z"
    },
    "scrolled": false
   },
   "outputs": [
    {
     "data": {
      "text/plain": [
       "<matplotlib.legend.Legend at 0x7fede5442c70>"
      ]
     },
     "execution_count": 112,
     "metadata": {},
     "output_type": "execute_result"
    },
    {
     "data": {
      "image/png": "[encoded data removed]",
      "text/plain": [
       "<Figure size 432x288 with 1 Axes>"
      ]
     },
     "metadata": {
      "needs_background": "light"
     },
     "output_type": "display_data"
    }
   ],
   "source": [
    "df=pd.DataFrame({'x_values': x_axis, 'Results': results})\n",
    "plt.plot( 'x_values', 'Results', data=df, marker='o', markerfacecolor='skyblue', markersize=5, color='skyblue', linewidth=4, linestyle='dotted')\n",
    "plt.title(\"MAE\")\n",
    "plt.legend()"
   ]
  },
  {
   "cell_type": "markdown",
   "metadata": {},
   "source": [
    "Ponownie algorytm poradził sobie przyzwoicie, zmiejszając MAE prawie o połowę."
   ]
  }
 ],
 "metadata": {
  "kernelspec": {
   "display_name": "Python 3",
   "language": "python",
   "name": "python3"
  },
  "language_info": {
   "codemirror_mode": {
    "name": "ipython",
    "version": 3
   },
   "file_extension": ".py",
   "mimetype": "text/x-python",
   "name": "python",
   "nbconvert_exporter": "python",
   "pygments_lexer": "ipython3",
   "version": "3.8.5"
  }
 },
 "nbformat": 4,
 "nbformat_minor": 4
}
