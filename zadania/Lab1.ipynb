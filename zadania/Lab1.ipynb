{
 "cells": [
  {
   "cell_type": "code",
   "execution_count": 1,
   "metadata": {},
   "outputs": [],
   "source": [
    "import numpy as np\n",
    "import pandas as pd\n",
    "import seaborn as sns\n",
    "from matplotlib import pyplot as plt\n",
    "from sklearn import metrics\n",
    "\n",
    "from __future__ import print_function\n",
    "from ipywidgets import interact, interactive, fixed, interact_manual\n",
    "import ipywidgets as widgets"
   ]
  },
  {
   "cell_type": "markdown",
   "metadata": {},
   "source": [
    "Funkcja aktywacji, w naszym przypadku używamy funkcji sigmoidalnej"
   ]
  },
  {
   "cell_type": "code",
   "execution_count": 2,
   "metadata": {},
   "outputs": [],
   "source": [
    "def sigmoid(x):\n",
    "    return 1/(1+np.exp(-x))\n",
    "#korzystam z biblioteki np, aby x mogl byc wektorem"
   ]
  },
  {
   "cell_type": "markdown",
   "metadata": {},
   "source": [
    "Klasa zawierająca funkcję do predykcji"
   ]
  },
  {
   "cell_type": "code",
   "execution_count": 3,
   "metadata": {},
   "outputs": [],
   "source": [
    "class MLP:\n",
    "    def __init__(self, weights, activation_function):\n",
    "        self.weights = weights\n",
    "        self.activation_function = activation_function\n",
    "        \n",
    "    def predict(self, inp):\n",
    "        v = inp\n",
    "        for weight in self.weights:\n",
    "            v = np.c_[v, np.ones(v.shape[0])] \n",
    "            prediction = v @ weight\n",
    "            v = self.activation_function(prediction)\n",
    "        return prediction\n",
    "        "
   ]
  },
  {
   "cell_type": "markdown",
   "metadata": {},
   "source": [
    "Pierwszy zbiór"
   ]
  },
  {
   "cell_type": "code",
   "execution_count": 4,
   "metadata": {},
   "outputs": [],
   "source": [
    "train_df = pd.read_csv('mio1/regression/square-simple-training.csv', index_col=0)\n",
    "test_df = pd.read_csv('mio1/regression/square-simple-test.csv', index_col=0)"
   ]
  },
  {
   "cell_type": "markdown",
   "metadata": {},
   "source": [
    "Sieć z jedną warstwą i 5 neuronami"
   ]
  },
  {
   "cell_type": "code",
   "execution_count": 5,
   "metadata": {},
   "outputs": [
    {
     "data": {
      "text/plain": [
       "26.052701103447333"
      ]
     },
     "execution_count": 5,
     "metadata": {},
     "output_type": "execute_result"
    }
   ],
   "source": [
    "wagi = [np.array([[2, 1, -1, -1, -1],\n",
    "                  [1, 1, 1, 1, 1]]),\n",
    "       np.array([-700, -100, -50, -800, -300, 1300])]\n",
    "#kazdy np.array to jedna warstwa, ostatni to współczynniki do wyjścia\n",
    "model1 = MLP(wagi, sigmoid)\n",
    "prediction1 = model1.predict(train_df['x'])\n",
    "metrics.mean_absolute_error(train_df['y'], prediction1)"
   ]
  },
  {
   "cell_type": "code",
   "execution_count": 6,
   "metadata": {
    "scrolled": false
   },
   "outputs": [
    {
     "data": {
      "text/plain": [
       "35.05551171885537"
      ]
     },
     "execution_count": 6,
     "metadata": {},
     "output_type": "execute_result"
    }
   ],
   "source": [
    "model2 = MLP(wagi, sigmoid)\n",
    "prediction2 = model2.predict(test_df['x'])\n",
    "metrics.mean_absolute_error(test_df['y'], prediction2)"
   ]
  },
  {
   "cell_type": "code",
   "execution_count": 7,
   "metadata": {},
   "outputs": [],
   "source": [
    "model_df = pd.DataFrame(test_df['x'])\n",
    "model_df['split'] = 'predict'\n",
    "model_df['y'] = prediction2\n",
    "test_df['split'] = 'test'\n",
    "df = pd.concat([test_df, model_df])"
   ]
  },
  {
   "cell_type": "code",
   "execution_count": 8,
   "metadata": {
    "scrolled": true
   },
   "outputs": [
    {
     "data": {
      "text/plain": [
       "<AxesSubplot:xlabel='x', ylabel='y'>"
      ]
     },
     "execution_count": 8,
     "metadata": {},
     "output_type": "execute_result"
    },
    {
     "data": {
      "image/png": "[encoded data removed]",
      "text/plain": [
       "<Figure size 432x288 with 1 Axes>"
      ]
     },
     "metadata": {
      "needs_background": "light"
     },
     "output_type": "display_data"
    }
   ],
   "source": [
    "sns.scatterplot(data=df, x='x', y='y', hue = 'split')"
   ]
  },
  {
   "cell_type": "markdown",
   "metadata": {},
   "source": [
    "MAE na zbiorze treningowym jest niższy niż na testowym, więc wszystko ok."
   ]
  },
  {
   "cell_type": "markdown",
   "metadata": {},
   "source": [
    "Sieć z jedną warstwą i 10 neuronami"
   ]
  },
  {
   "cell_type": "code",
   "execution_count": 9,
   "metadata": {},
   "outputs": [
    {
     "data": {
      "text/plain": [
       "54.76018909021286"
      ]
     },
     "execution_count": 9,
     "metadata": {},
     "output_type": "execute_result"
    }
   ],
   "source": [
    "wagi = [np.array([[2, 1, -1, -1, -1, 100, 1, 1, 1, 1],\n",
    "                  [1, 1, 1, 1, 10, 1 , 1, 1 , 1, 1]]),\n",
    "       np.array([-700, -100, -50, -800, -300, 100 , 1, 1 , 100, 1, 1300])]\n",
    "#kazdy np.array to jedna warstwa, ostatni to współczynniki do wyjścia\n",
    "model1 = MLP(wagi, sigmoid)\n",
    "prediction1 = model1.predict(train_df['x'])\n",
    "metrics.mean_absolute_error(train_df['y'], prediction1)"
   ]
  },
  {
   "cell_type": "code",
   "execution_count": 10,
   "metadata": {
    "scrolled": true
   },
   "outputs": [
    {
     "data": {
      "text/plain": [
       "62.129094858394545"
      ]
     },
     "execution_count": 10,
     "metadata": {},
     "output_type": "execute_result"
    }
   ],
   "source": [
    "model2 = MLP(wagi, sigmoid)\n",
    "prediction2 = model2.predict(test_df['x'])\n",
    "metrics.mean_absolute_error(test_df['y'], prediction2)"
   ]
  },
  {
   "cell_type": "code",
   "execution_count": 11,
   "metadata": {},
   "outputs": [],
   "source": [
    "model_df = pd.DataFrame(test_df['x'])\n",
    "model_df['split'] = 'predict'\n",
    "model_df['y'] = prediction2\n",
    "test_df['split'] = 'test'\n",
    "df = pd.concat([test_df, model_df])"
   ]
  },
  {
   "cell_type": "code",
   "execution_count": 12,
   "metadata": {
    "scrolled": true
   },
   "outputs": [
    {
     "data": {
      "text/plain": [
       "<AxesSubplot:xlabel='x', ylabel='y'>"
      ]
     },
     "execution_count": 12,
     "metadata": {},
     "output_type": "execute_result"
    },
    {
     "data": {
      "image/png": "[encoded data removed]",
      "text/plain": [
       "<Figure size 432x288 with 1 Axes>"
      ]
     },
     "metadata": {
      "needs_background": "light"
     },
     "output_type": "display_data"
    }
   ],
   "source": [
    "sns.scatterplot(data=df, x='x', y='y', hue = 'split')"
   ]
  },
  {
   "cell_type": "markdown",
   "metadata": {},
   "source": [
    "Sieć z dwoma warstwami po 5 neuronów"
   ]
  },
  {
   "cell_type": "code",
   "execution_count": 13,
   "metadata": {},
   "outputs": [
    {
     "data": {
      "text/plain": [
       "82.57111612422206"
      ]
     },
     "execution_count": 13,
     "metadata": {},
     "output_type": "execute_result"
    }
   ],
   "source": [
    "wagi = [np.array([[2, 1, -1, -1, -1],\n",
    "                  [1, 1, 1, 1, 10]]),\n",
    "        np.array([[2, 1, -1, -1, -1],\n",
    "                  [10, 1, 1, 1, 10],\n",
    "                  [10, 1, 1, 1, 10],\n",
    "                  [10, 1, 1, 1, 10],\n",
    "                  [10, 1, 1, 1, 10],\n",
    "                 [1, 1, 1, 1, 10]]),\n",
    "       np.array([-100, -100, -150, -800, -300,1300])]\n",
    "#kazdy np.array to jedna warstwa, ostatni to współczynniki do wyjścia\n",
    "model1 = MLP(wagi, sigmoid)\n",
    "prediction1 = model1.predict(train_df['x'])\n",
    "metrics.mean_absolute_error(train_df['y'], prediction1)"
   ]
  },
  {
   "cell_type": "code",
   "execution_count": 14,
   "metadata": {
    "scrolled": true
   },
   "outputs": [
    {
     "data": {
      "text/plain": [
       "78.86030179440534"
      ]
     },
     "execution_count": 14,
     "metadata": {},
     "output_type": "execute_result"
    }
   ],
   "source": [
    "model2 = MLP(wagi, sigmoid)\n",
    "prediction2 = model2.predict(test_df['x'])\n",
    "metrics.mean_absolute_error(test_df['y'], prediction2)"
   ]
  },
  {
   "cell_type": "code",
   "execution_count": 15,
   "metadata": {},
   "outputs": [],
   "source": [
    "model_df = pd.DataFrame(test_df['x'])\n",
    "model_df['split'] = 'predict'\n",
    "model_df['y'] = prediction2\n",
    "test_df['split'] = 'test'\n",
    "df = pd.concat([test_df, model_df])"
   ]
  },
  {
   "cell_type": "code",
   "execution_count": 16,
   "metadata": {
    "scrolled": false
   },
   "outputs": [
    {
     "data": {
      "text/plain": [
       "<AxesSubplot:xlabel='x', ylabel='y'>"
      ]
     },
     "execution_count": 16,
     "metadata": {},
     "output_type": "execute_result"
    },
    {
     "data": {
      "image/png": "[encoded data removed]",
      "text/plain": [
       "<Figure size 432x288 with 1 Axes>"
      ]
     },
     "metadata": {
      "needs_background": "light"
     },
     "output_type": "display_data"
    }
   ],
   "source": [
    "sns.scatterplot(data=df, x='x', y='y', hue = 'split')"
   ]
  },
  {
   "cell_type": "markdown",
   "metadata": {},
   "source": [
    "Oczywiście model jest źle dopasowany (estymujemy krzywą prostą liniową) jednak to zadanie jest tak katorżnicze do wykonania ręcznie, że zdecydowałem się tylko zasygnalizować jak wyglądałyby wagi."
   ]
  },
  {
   "cell_type": "markdown",
   "metadata": {},
   "source": [
    "# Drugi zbiór"
   ]
  },
  {
   "cell_type": "code",
   "execution_count": 17,
   "metadata": {},
   "outputs": [],
   "source": [
    "train_df = pd.read_csv('mio1/regression/steps-large-training.csv', index_col=0)\n",
    "test_df = pd.read_csv('mio1/regression/steps-large-test.csv', index_col=0)"
   ]
  },
  {
   "cell_type": "markdown",
   "metadata": {},
   "source": [
    "Sieć z jedną warstwą i 5 neuronami"
   ]
  },
  {
   "cell_type": "code",
   "execution_count": 21,
   "metadata": {},
   "outputs": [
    {
     "data": {
      "text/plain": [
       "26.752308689779717"
      ]
     },
     "execution_count": 21,
     "metadata": {},
     "output_type": "execute_result"
    }
   ],
   "source": [
    "wagi = [np.array([[50, 180, 180, 150, 450],\n",
    "                  [450, -100, 100, -115, 150]]), \n",
    "        np.array([100, 80, 80, 100, 0, -180])]\n",
    "#kazdy np.array to jedna warstwa, ostatni to współczynniki do wyjścia\n",
    "model1 = MLP(wagi, sigmoid)\n",
    "prediction1 = model1.predict(train_df['x'])\n",
    "metrics.mean_absolute_error(train_df['y'], prediction1)"
   ]
  },
  {
   "cell_type": "code",
   "execution_count": 22,
   "metadata": {
    "scrolled": false
   },
   "outputs": [
    {
     "data": {
      "text/plain": [
       "26.59941738628309"
      ]
     },
     "execution_count": 22,
     "metadata": {},
     "output_type": "execute_result"
    }
   ],
   "source": [
    "model2 = MLP(wagi, sigmoid)\n",
    "prediction2 = model2.predict(test_df['x'])\n",
    "metrics.mean_absolute_error(test_df['y'], prediction2)"
   ]
  },
  {
   "cell_type": "code",
   "execution_count": 23,
   "metadata": {},
   "outputs": [],
   "source": [
    "model_df = pd.DataFrame(test_df['x'])\n",
    "model_df['split'] = 'predict'\n",
    "model_df['y'] = prediction2\n",
    "test_df['split'] = 'test'\n",
    "df = pd.concat([test_df, model_df])"
   ]
  },
  {
   "cell_type": "code",
   "execution_count": 24,
   "metadata": {
    "scrolled": true
   },
   "outputs": [
    {
     "data": {
      "text/plain": [
       "<AxesSubplot:xlabel='x', ylabel='y'>"
      ]
     },
     "execution_count": 24,
     "metadata": {},
     "output_type": "execute_result"
    },
    {
     "data": {
      "image/png": "[encoded data removed]",
      "text/plain": [
       "<Figure size 432x288 with 1 Axes>"
      ]
     },
     "metadata": {
      "needs_background": "light"
     },
     "output_type": "display_data"
    }
   ],
   "source": [
    "sns.scatterplot(data=df, x='x', y='y', hue = 'split')"
   ]
  },
  {
   "cell_type": "markdown",
   "metadata": {},
   "source": [
    "Niestety, mimo wielu prób nie udało mi się ustawić odpowiednio ostatnich dwóch schodków"
   ]
  },
  {
   "cell_type": "markdown",
   "metadata": {},
   "source": [
    "Dla 1 warstwy i 10 neuronów oraz dla 2 warstw po 5 neuronów ustawianie byłoby jeszcze cięższe, więc pominąłem ten punkt (wagi byłyby analogicznie skonstuowane jak w pierwszym zbiorze)."
   ]
  }
 ],
 "metadata": {
  "kernelspec": {
   "display_name": "Python 3",
   "language": "python",
   "name": "python3"
  },
  "language_info": {
   "codemirror_mode": {
    "name": "ipython",
    "version": 3
   },
   "file_extension": ".py",
   "mimetype": "text/x-python",
   "name": "python",
   "nbconvert_exporter": "python",
   "pygments_lexer": "ipython3",
   "version": "3.8.5"
  }
 },
 "nbformat": 4,
 "nbformat_minor": 4
}
